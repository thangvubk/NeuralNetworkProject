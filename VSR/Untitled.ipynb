{
 "cells": [
  {
   "cell_type": "code",
   "execution_count": 222,
   "metadata": {},
   "outputs": [
    {
     "name": "stdout",
     "output_type": "stream",
     "text": [
      "The autoreload extension is already loaded. To reload it, use:\n",
      "  %reload_ext autoreload\n"
     ]
    }
   ],
   "source": [
    "from __future__ import division\n",
    "import numpy as np\n",
    "import scipy.misc\n",
    "import os\n",
    "from torch.utils.data import DataLoader\n",
    "import torch.nn as nn\n",
    "from torch.autograd import Variable\n",
    "from SR_datasets import SRCNN_dataset, SR_dataset\n",
    "import torch\n",
    "import matplotlib.pyplot as plt\n",
    "import scipy.ndimage\n",
    "%matplotlib inline\n",
    "%load_ext autoreload\n",
    "%autoreload 2"
   ]
  },
  {
   "cell_type": "code",
   "execution_count": 13,
   "metadata": {},
   "outputs": [
    {
     "data": {
      "text/plain": [
       "'/mnt/hdd1/thangvubk/workspace/NeuralNetwork/NeuralNetworkProject/VSR'"
      ]
     },
     "execution_count": 13,
     "metadata": {},
     "output_type": "execute_result"
    }
   ],
   "source": [
    "os.getcwd()\n"
   ]
  },
  {
   "cell_type": "code",
   "execution_count": 1,
   "metadata": {},
   "outputs": [],
   "source": [
    "from SR_datasets import *\n",
    "\n",
    "dataset = SRCNN_dataset(os.getcwd()+'/akiyo', phase='train')"
   ]
  },
  {
   "cell_type": "code",
   "execution_count": 3,
   "metadata": {},
   "outputs": [
    {
     "data": {
      "text/plain": [
       "300"
      ]
     },
     "execution_count": 3,
     "metadata": {},
     "output_type": "execute_result"
    }
   ],
   "source": [
    "len(dataset.paths)\n"
   ]
  },
  {
   "cell_type": "code",
   "execution_count": 7,
   "metadata": {},
   "outputs": [],
   "source": [
    "from config import *\n"
   ]
  },
  {
   "cell_type": "code",
   "execution_count": 8,
   "metadata": {},
   "outputs": [
    {
     "data": {
      "text/plain": [
       "12"
      ]
     },
     "execution_count": 8,
     "metadata": {},
     "output_type": "execute_result"
    }
   ],
   "source": [
    "config.SRCNN_IMG_DIFF\n"
   ]
  },
  {
   "cell_type": "code",
   "execution_count": 9,
   "metadata": {},
   "outputs": [
    {
     "data": {
      "text/plain": [
       "12"
      ]
     },
     "execution_count": 9,
     "metadata": {},
     "output_type": "execute_result"
    }
   ],
   "source": [
    "SRCNN_IMG_DIFF\n"
   ]
  },
  {
   "cell_type": "code",
   "execution_count": 13,
   "metadata": {},
   "outputs": [],
   "source": [
    "a = np.fromfunction(lambda i, j: i + j, (8, 8), dtype=int)"
   ]
  },
  {
   "cell_type": "code",
   "execution_count": 38,
   "metadata": {},
   "outputs": [
    {
     "name": "stderr",
     "output_type": "stream",
     "text": [
      "/mnt/hdd1/thangvubk/workspace/.global_env/local/lib/python2.7/site-packages/scipy/ndimage/interpolation.py:600: UserWarning: From scipy 0.13.0, the output shape of zoom() is calculated with round() instead of int() - for these inputs the size of the returned array has changed.\n",
      "  \"the returned array has changed.\", UserWarning)\n"
     ]
    }
   ],
   "source": [
    "import scipy.ndimage\n",
    "b = scipy.ndimage.interpolation.zoom(a, 1/2, prefilter=False)"
   ]
  },
  {
   "cell_type": "code",
   "execution_count": 41,
   "metadata": {},
   "outputs": [
    {
     "data": {
      "text/plain": [
       "array([[[ 1],\n",
       "        [ 3],\n",
       "        [ 5],\n",
       "        [ 7]],\n",
       "\n",
       "       [[ 3],\n",
       "        [ 5],\n",
       "        [ 7],\n",
       "        [ 9]],\n",
       "\n",
       "       [[ 5],\n",
       "        [ 7],\n",
       "        [ 9],\n",
       "        [11]],\n",
       "\n",
       "       [[ 7],\n",
       "        [ 9],\n",
       "        [11],\n",
       "        [13]]])"
      ]
     },
     "execution_count": 41,
     "metadata": {},
     "output_type": "execute_result"
    }
   ],
   "source": [
    "b"
   ]
  },
  {
   "cell_type": "code",
   "execution_count": 20,
   "metadata": {},
   "outputs": [],
   "source": [
    "c = scipy.ndimage.interpolation.zoom(b, 2, prefilter=False)"
   ]
  },
  {
   "cell_type": "code",
   "execution_count": 21,
   "metadata": {},
   "outputs": [
    {
     "data": {
      "text/plain": [
       "array([[ 2,  3,  3,  4,  5,  6,  7,  7],\n",
       "       [ 3,  3,  4,  5,  5,  6,  7,  7],\n",
       "       [ 3,  4,  4,  5,  6,  7,  8,  8],\n",
       "       [ 4,  5,  5,  6,  7,  8,  9,  9],\n",
       "       [ 5,  5,  6,  7,  8,  9,  9, 10],\n",
       "       [ 6,  6,  7,  8,  9, 10, 10, 11],\n",
       "       [ 7,  7,  8,  9,  9, 10, 11, 11],\n",
       "       [ 7,  7,  8,  9, 10, 11, 11, 12]])"
      ]
     },
     "execution_count": 21,
     "metadata": {},
     "output_type": "execute_result"
    }
   ],
   "source": [
    "c"
   ]
  },
  {
   "cell_type": "code",
   "execution_count": 24,
   "metadata": {},
   "outputs": [
    {
     "data": {
      "text/plain": [
       "int"
      ]
     },
     "execution_count": 24,
     "metadata": {},
     "output_type": "execute_result"
    }
   ],
   "source": [
    "type(4//2)"
   ]
  },
  {
   "cell_type": "code",
   "execution_count": 30,
   "metadata": {},
   "outputs": [],
   "source": [
    "import torchvision.transforms as T"
   ]
  },
  {
   "cell_type": "code",
   "execution_count": 31,
   "metadata": {},
   "outputs": [],
   "source": [
    "transforms = T.ToTensor()"
   ]
  },
  {
   "cell_type": "code",
   "execution_count": 32,
   "metadata": {},
   "outputs": [
    {
     "data": {
      "text/plain": [
       "<torchvision.transforms.ToTensor at 0x7f12baf23610>"
      ]
     },
     "execution_count": 32,
     "metadata": {},
     "output_type": "execute_result"
    }
   ],
   "source": [
    "transforms"
   ]
  },
  {
   "cell_type": "code",
   "execution_count": 33,
   "metadata": {},
   "outputs": [],
   "source": [
    "transforms = T.CenterCrop(20)"
   ]
  },
  {
   "cell_type": "code",
   "execution_count": 35,
   "metadata": {},
   "outputs": [],
   "source": [
    "a = a[:, :, np.newaxis]"
   ]
  },
  {
   "cell_type": "code",
   "execution_count": 37,
   "metadata": {},
   "outputs": [
    {
     "data": {
      "text/plain": [
       "(8, 8, 1)"
      ]
     },
     "execution_count": 37,
     "metadata": {},
     "output_type": "execute_result"
    }
   ],
   "source": [
    "a.shape"
   ]
  },
  {
   "cell_type": "code",
   "execution_count": 187,
   "metadata": {},
   "outputs": [],
   "source": [
    "dataset = SR_dataset(os.getcwd()+'/akiyo')\n",
    "\n",
    "dataloader = DataLoader(dataset, batch_size=10, shuffle=False)\n",
    "\n",
    "dataiter = iter(dataloader)\n",
    "\n",
    "low, high = dataiter.next()\n",
    "low = Variable(low)"
   ]
  },
  {
   "cell_type": "code",
   "execution_count": 188,
   "metadata": {},
   "outputs": [
    {
     "data": {
      "text/plain": [
       "torch.Size([10, 1, 96, 117])"
      ]
     },
     "execution_count": 188,
     "metadata": {},
     "output_type": "execute_result"
    }
   ],
   "source": [
    "low.size()\n"
   ]
  },
  {
   "cell_type": "code",
   "execution_count": 190,
   "metadata": {},
   "outputs": [
    {
     "name": "stdout",
     "output_type": "stream",
     "text": [
      "Variable containing:\n",
      " 0.3477\n",
      "[torch.FloatTensor of size 1]\n",
      "\n"
     ]
    }
   ],
   "source": [
    "print(torch.mean(low))"
   ]
  },
  {
   "cell_type": "code",
   "execution_count": 377,
   "metadata": {},
   "outputs": [],
   "source": [
    "a = scipy.misc.imread('Result/label_1.png', flatten=True, mode='YCbCr')\n",
    "\n",
    "b = scipy.misc.imread('Result/output_1.png', flatten=True, mode='YCbCr')\n",
    "\n",
    "imdiff = (a - b)\n",
    "\n",
    "rmse = np.linalg.norm(imdiff)\n",
    "rmse1 = np.sqrt(np.mean(imdiff**2))\n",
    "\n",
    "psnr = 20*np.log10(255/rmse1)"
   ]
  },
  {
   "cell_type": "code",
   "execution_count": 378,
   "metadata": {},
   "outputs": [
    {
     "data": {
      "text/plain": [
       "25.384933635565275"
      ]
     },
     "execution_count": 378,
     "metadata": {},
     "output_type": "execute_result"
    }
   ],
   "source": [
    "psnr"
   ]
  },
  {
   "cell_type": "code",
   "execution_count": 361,
   "metadata": {},
   "outputs": [
    {
     "data": {
      "text/plain": [
       "29.746941347352298"
      ]
     },
     "execution_count": 361,
     "metadata": {},
     "output_type": "execute_result"
    }
   ],
   "source": [
    "20*np.log10(1/np.sqrt(0.00106))"
   ]
  },
  {
   "cell_type": "code",
   "execution_count": 358,
   "metadata": {},
   "outputs": [
    {
     "data": {
      "text/plain": [
       "0.55425625842204074"
      ]
     },
     "execution_count": 358,
     "metadata": {},
     "output_type": "execute_result"
    }
   ],
   "source": [
    "np.sqrt(0.0012*256)"
   ]
  },
  {
   "cell_type": "code",
   "execution_count": 218,
   "metadata": {},
   "outputs": [
    {
     "data": {
      "text/plain": [
       "2.225929699439633"
      ]
     },
     "execution_count": 218,
     "metadata": {},
     "output_type": "execute_result"
    }
   ],
   "source": [
    "87.39/39.26"
   ]
  },
  {
   "cell_type": "code",
   "execution_count": 311,
   "metadata": {},
   "outputs": [],
   "source": [
    "a = scipy.misc.imread('akiyo2/image-0001.bmp', flatten=True, mode='YCbCr')"
   ]
  },
  {
   "cell_type": "code",
   "execution_count": 313,
   "metadata": {},
   "outputs": [],
   "source": [
    "scipy.misc.imsave('akiyo2/temp.bmp', a)"
   ]
  },
  {
   "cell_type": "code",
   "execution_count": 314,
   "metadata": {},
   "outputs": [],
   "source": [
    "b = scipy.misc.imread('akiyo2/temp.bmp', flatten=True, mode='YCbCr')"
   ]
  },
  {
   "cell_type": "code",
   "execution_count": 374,
   "metadata": {},
   "outputs": [
    {
     "data": {
      "text/plain": [
       "array([[ 252.,  252.,  251., ...,  253.,  253.,  253.],\n",
       "       [ 253.,  252.,  250., ...,  251.,  251.,  253.],\n",
       "       [ 252.,  251.,  250., ...,  251.,  251.,  253.],\n",
       "       ..., \n",
       "       [ 112.,  111.,  106., ...,   53.,   42.,   50.],\n",
       "       [ 116.,  112.,  104., ...,   61.,   47.,   49.],\n",
       "       [ 111.,  104.,  101., ...,   58.,   48.,   44.]], dtype=float32)"
      ]
     },
     "execution_count": 374,
     "metadata": {},
     "output_type": "execute_result"
    }
   ],
   "source": [
    "a\n"
   ]
  },
  {
   "cell_type": "code",
   "execution_count": 369,
   "metadata": {},
   "outputs": [
    {
     "data": {
      "text/plain": [
       "array([[ 41.,  42.,  42.,  42.,  42.],\n",
       "       [ 40.,  40.,  40.,  41.,  41.],\n",
       "       [ 39.,  39.,  40.,  40.,  40.],\n",
       "       [ 40.,  40.,  40.,  41.,  41.],\n",
       "       [ 41.,  41.,  42.,  42.,  42.]], dtype=float32)"
      ]
     },
     "execution_count": 369,
     "metadata": {},
     "output_type": "execute_result"
    }
   ],
   "source": [
    "b[:5, :5]"
   ]
  },
  {
   "cell_type": "code",
   "execution_count": 318,
   "metadata": {},
   "outputs": [],
   "source": [
    "from PIL import Image"
   ]
  },
  {
   "cell_type": "code",
   "execution_count": 320,
   "metadata": {},
   "outputs": [],
   "source": [
    "a = Image.open('akiyo2/image-0001.bmp')\n"
   ]
  },
  {
   "cell_type": "code",
   "execution_count": 324,
   "metadata": {},
   "outputs": [],
   "source": [
    "imga = a.convert('YCbCr')"
   ]
  },
  {
   "cell_type": "code",
   "execution_count": 336,
   "metadata": {},
   "outputs": [],
   "source": [
    "with open('akiyo2/image-0001.bmp', 'rb') as f:\n",
    "            with Image.open(f) as img:\n",
    "                image = img.convert('YCbCr')"
   ]
  },
  {
   "cell_type": "code",
   "execution_count": 337,
   "metadata": {},
   "outputs": [
    {
     "data": {
      "text/plain": [
       "PIL.Image.Image"
      ]
     },
     "execution_count": 337,
     "metadata": {},
     "output_type": "execute_result"
    }
   ],
   "source": [
    "type(image)"
   ]
  },
  {
   "cell_type": "code",
   "execution_count": 341,
   "metadata": {},
   "outputs": [],
   "source": [
    "img = np.array(image)"
   ]
  },
  {
   "cell_type": "code",
   "execution_count": 344,
   "metadata": {},
   "outputs": [
    {
     "data": {
      "text/plain": [
       "array([[36, 37, 39, ..., 26, 24,  3],\n",
       "       [35, 37, 36, ..., 29, 25,  3],\n",
       "       [36, 37, 36, ..., 26, 24,  3],\n",
       "       ..., \n",
       "       [51, 51, 51, ..., 47, 45,  3],\n",
       "       [51, 51, 51, ..., 47, 46,  3],\n",
       "       [50, 50, 52, ..., 49, 44,  3]], dtype=uint8)"
      ]
     },
     "execution_count": 344,
     "metadata": {},
     "output_type": "execute_result"
    }
   ],
   "source": [
    "img[:, :, 0]"
   ]
  },
  {
   "cell_type": "code",
   "execution_count": 345,
   "metadata": {},
   "outputs": [],
   "source": [
    "pilImg = Image.fromarray(img)"
   ]
  },
  {
   "cell_type": "code",
   "execution_count": 346,
   "metadata": {},
   "outputs": [],
   "source": [
    "pilImg.save('akiyo2/temp.bmp')"
   ]
  },
  {
   "cell_type": "code",
   "execution_count": 347,
   "metadata": {},
   "outputs": [],
   "source": [
    "with open('akiyo2/temp.bmp') as f:\n",
    "            with Image.open(f) as img:\n",
    "                image = img.convert('YCbCr')"
   ]
  },
  {
   "cell_type": "code",
   "execution_count": 348,
   "metadata": {},
   "outputs": [],
   "source": [
    "img1= np.array(image)"
   ]
  },
  {
   "cell_type": "code",
   "execution_count": 349,
   "metadata": {},
   "outputs": [
    {
     "data": {
      "text/plain": [
       "array([[ 98,  98,  99, ...,  93,  94,  89],\n",
       "       [ 98,  98,  98, ...,  94,  94,  89],\n",
       "       [ 98,  99,  98, ...,  95,  95,  89],\n",
       "       ..., \n",
       "       [105, 105, 104, ..., 102, 101,  89],\n",
       "       [105, 105, 104, ..., 102, 102,  89],\n",
       "       [104, 104, 104, ..., 102, 101,  89]], dtype=uint8)"
      ]
     },
     "execution_count": 349,
     "metadata": {},
     "output_type": "execute_result"
    }
   ],
   "source": [
    "img1[:, :, 0]"
   ]
  },
  {
   "cell_type": "code",
   "execution_count": 6,
   "metadata": {},
   "outputs": [],
   "source": [
    "\n",
    "conv1 = nn.Conv2d(1, 64, 5, padding=2)\n",
    "conv2 = nn.Conv2d(64, 32, 3, padding=1)\n",
    "conv3 = nn.Conv2d(32, 9, 3, padding=1)\n",
    "conv4 = nn.Conv2d(5, 32, 1)\n",
    "conv5 = nn.ConvTranspose2d(32, 1, 9, stride=3)\n",
    "def forward(x):\n",
    "    x = conv3(conv2(conv1(x)))\n",
    "    return x\n",
    "\n",
    "y = forward(low)"
   ]
  },
  {
   "cell_type": "code",
   "execution_count": 7,
   "metadata": {},
   "outputs": [
    {
     "data": {
      "text/plain": [
       "torch.Size([10, 9, 96, 117])"
      ]
     },
     "execution_count": 7,
     "metadata": {},
     "output_type": "execute_result"
    }
   ],
   "source": [
    "y.size()"
   ]
  },
  {
   "cell_type": "code",
   "execution_count": 14,
   "metadata": {},
   "outputs": [
    {
     "ename": "TypeError",
     "evalue": "indexing a tensor with an object of type torch.FloatTensor. The only supported types are integers, slices, numpy scalars and torch.LongTensor or torch.ByteTensor as the only argument.",
     "output_type": "error",
     "traceback": [
      "\u001b[0;31m---------------------------------------------------------------------------\u001b[0m",
      "\u001b[0;31mTypeError\u001b[0m                                 Traceback (most recent call last)",
      "\u001b[0;32m<ipython-input-14-fa160aadd484>\u001b[0m in \u001b[0;36m<module>\u001b[0;34m()\u001b[0m\n\u001b[1;32m      2\u001b[0m \u001b[0my\u001b[0m \u001b[0;34m=\u001b[0m \u001b[0;34m[\u001b[0m\u001b[0;36m1\u001b[0m\u001b[0;34m,\u001b[0m\u001b[0;36m2\u001b[0m\u001b[0;34m]\u001b[0m\u001b[0;34m\u001b[0m\u001b[0m\n\u001b[1;32m      3\u001b[0m \u001b[0my\u001b[0m \u001b[0;34m=\u001b[0m \u001b[0mtorch\u001b[0m\u001b[0;34m.\u001b[0m\u001b[0mTensor\u001b[0m\u001b[0;34m(\u001b[0m\u001b[0;34m[\u001b[0m\u001b[0;36m1\u001b[0m\u001b[0;34m,\u001b[0m\u001b[0;36m2\u001b[0m\u001b[0;34m]\u001b[0m\u001b[0;34m)\u001b[0m\u001b[0;34m\u001b[0m\u001b[0m\n\u001b[0;32m----> 4\u001b[0;31m \u001b[0mlow\u001b[0m\u001b[0;34m[\u001b[0m\u001b[0my\u001b[0m\u001b[0;34m]\u001b[0m\u001b[0;34m.\u001b[0m\u001b[0msize\u001b[0m\u001b[0;34m(\u001b[0m\u001b[0;34m)\u001b[0m\u001b[0;34m\u001b[0m\u001b[0m\n\u001b[0m",
      "\u001b[0;32m/mnt/hdd1/thangvubk/workspace/.global_env/local/lib/python2.7/site-packages/torch/autograd/variable.pyc\u001b[0m in \u001b[0;36m__getitem__\u001b[0;34m(self, key)\u001b[0m\n\u001b[1;32m     74\u001b[0m                 \u001b[0;32mreturn\u001b[0m \u001b[0mIndexSelect\u001b[0m\u001b[0;34m.\u001b[0m\u001b[0mapply\u001b[0m\u001b[0;34m(\u001b[0m\u001b[0mself\u001b[0m\u001b[0;34m,\u001b[0m \u001b[0;36m0\u001b[0m\u001b[0;34m,\u001b[0m \u001b[0mkey\u001b[0m\u001b[0;34m)\u001b[0m\u001b[0;34m\u001b[0m\u001b[0m\n\u001b[1;32m     75\u001b[0m             \u001b[0;31m# else fall through and raise an error in Index\u001b[0m\u001b[0;34m\u001b[0m\u001b[0;34m\u001b[0m\u001b[0m\n\u001b[0;32m---> 76\u001b[0;31m         \u001b[0;32mreturn\u001b[0m \u001b[0mIndex\u001b[0m\u001b[0;34m.\u001b[0m\u001b[0mapply\u001b[0m\u001b[0;34m(\u001b[0m\u001b[0mself\u001b[0m\u001b[0;34m,\u001b[0m \u001b[0mkey\u001b[0m\u001b[0;34m)\u001b[0m\u001b[0;34m\u001b[0m\u001b[0m\n\u001b[0m\u001b[1;32m     77\u001b[0m \u001b[0;34m\u001b[0m\u001b[0m\n\u001b[1;32m     78\u001b[0m     \u001b[0;32mdef\u001b[0m \u001b[0m__setitem__\u001b[0m\u001b[0;34m(\u001b[0m\u001b[0mself\u001b[0m\u001b[0;34m,\u001b[0m \u001b[0mkey\u001b[0m\u001b[0;34m,\u001b[0m \u001b[0mvalue\u001b[0m\u001b[0;34m)\u001b[0m\u001b[0;34m:\u001b[0m\u001b[0;34m\u001b[0m\u001b[0m\n",
      "\u001b[0;32m/mnt/hdd1/thangvubk/workspace/.global_env/local/lib/python2.7/site-packages/torch/autograd/_functions/tensor.pyc\u001b[0m in \u001b[0;36mforward\u001b[0;34m(ctx, i, index)\u001b[0m\n\u001b[1;32m     14\u001b[0m         \u001b[0mctx\u001b[0m\u001b[0;34m.\u001b[0m\u001b[0minput_size\u001b[0m \u001b[0;34m=\u001b[0m \u001b[0mi\u001b[0m\u001b[0;34m.\u001b[0m\u001b[0msize\u001b[0m\u001b[0;34m(\u001b[0m\u001b[0;34m)\u001b[0m\u001b[0;34m\u001b[0m\u001b[0m\n\u001b[1;32m     15\u001b[0m         \u001b[0mctx\u001b[0m\u001b[0;34m.\u001b[0m\u001b[0mindex\u001b[0m \u001b[0;34m=\u001b[0m \u001b[0mindex\u001b[0m\u001b[0;34m\u001b[0m\u001b[0m\n\u001b[0;32m---> 16\u001b[0;31m         \u001b[0mresult\u001b[0m \u001b[0;34m=\u001b[0m \u001b[0mi\u001b[0m\u001b[0;34m.\u001b[0m\u001b[0mindex\u001b[0m\u001b[0;34m(\u001b[0m\u001b[0mctx\u001b[0m\u001b[0;34m.\u001b[0m\u001b[0mindex\u001b[0m\u001b[0;34m)\u001b[0m\u001b[0;34m\u001b[0m\u001b[0m\n\u001b[0m\u001b[1;32m     17\u001b[0m         \u001b[0mctx\u001b[0m\u001b[0;34m.\u001b[0m\u001b[0madvanced_indexing\u001b[0m \u001b[0;34m=\u001b[0m \u001b[0mi\u001b[0m\u001b[0;34m.\u001b[0m\u001b[0m_check_advanced_indexing\u001b[0m\u001b[0;34m(\u001b[0m\u001b[0mindex\u001b[0m\u001b[0;34m)\u001b[0m\u001b[0;34m\u001b[0m\u001b[0m\n\u001b[1;32m     18\u001b[0m         \u001b[0;32mif\u001b[0m \u001b[0;32mnot\u001b[0m \u001b[0mctx\u001b[0m\u001b[0;34m.\u001b[0m\u001b[0madvanced_indexing\u001b[0m\u001b[0;34m:\u001b[0m\u001b[0;34m\u001b[0m\u001b[0m\n",
      "\u001b[0;31mTypeError\u001b[0m: indexing a tensor with an object of type torch.FloatTensor. The only supported types are integers, slices, numpy scalars and torch.LongTensor or torch.ByteTensor as the only argument."
     ]
    }
   ],
   "source": [
    "low.size()\n",
    "y = [1,2]\n",
    "y = torch.Tensor([1,2])\n",
    "low[y].size()\n"
   ]
  },
  {
   "cell_type": "code",
   "execution_count": 397,
   "metadata": {},
   "outputs": [
    {
     "data": {
      "text/plain": [
       "torch.Size([10, 2, 284, 347])"
      ]
     },
     "execution_count": 397,
     "metadata": {},
     "output_type": "execute_result"
    }
   ],
   "source": [
    "y.size()"
   ]
  },
  {
   "cell_type": "code",
   "execution_count": 400,
   "metadata": {},
   "outputs": [],
   "source": [
    "deconv = nn.ConvTranspose2d(2, 1, 5)"
   ]
  },
  {
   "cell_type": "code",
   "execution_count": 401,
   "metadata": {},
   "outputs": [],
   "source": [
    "low_temp = deconv(y)"
   ]
  },
  {
   "cell_type": "code",
   "execution_count": 402,
   "metadata": {},
   "outputs": [
    {
     "data": {
      "text/plain": [
       "torch.Size([10, 1, 288, 351])"
      ]
     },
     "execution_count": 402,
     "metadata": {},
     "output_type": "execute_result"
    }
   ],
   "source": [
    "low_temp.size()"
   ]
  },
  {
   "cell_type": "code",
   "execution_count": 404,
   "metadata": {},
   "outputs": [
    {
     "data": {
      "text/plain": [
       "Variable containing:\n",
       "( 0 , 0 ,.,.) = \n",
       " -1.0126e-01 -1.2886e-01 -1.0082e-01  ...  -8.5247e-02 -1.1212e-01 -1.1804e-01\n",
       " -1.2935e-01 -1.5089e-01 -1.0386e-01  ...  -4.6491e-02 -9.0805e-02 -1.1252e-01\n",
       " -9.8513e-02 -1.2316e-01 -7.7634e-02  ...  -4.2536e-02 -8.5441e-02 -1.0851e-01\n",
       "                 ...                   ⋱                   ...                \n",
       " -1.2824e-01 -1.1765e-01 -9.0062e-02  ...  -1.2554e-01 -1.5207e-01 -1.2638e-01\n",
       " -1.6437e-01 -1.5320e-01 -1.2554e-01  ...  -1.2826e-01 -1.5536e-01 -1.2911e-01\n",
       " -1.5517e-01 -1.5938e-01 -1.7557e-01  ...  -1.5153e-01 -1.3667e-01 -1.2795e-01\n",
       "      ⋮  \n",
       "\n",
       "( 1 , 0 ,.,.) = \n",
       " -1.0126e-01 -1.2886e-01 -1.0082e-01  ...  -8.5243e-02 -1.1212e-01 -1.1804e-01\n",
       " -1.2935e-01 -1.5089e-01 -1.0386e-01  ...  -4.6481e-02 -9.0797e-02 -1.1251e-01\n",
       " -9.8513e-02 -1.2316e-01 -7.7634e-02  ...  -4.2518e-02 -8.5428e-02 -1.0851e-01\n",
       "                 ...                   ⋱                   ...                \n",
       " -1.2824e-01 -1.1765e-01 -9.0062e-02  ...  -1.2554e-01 -1.5207e-01 -1.2638e-01\n",
       " -1.6437e-01 -1.5320e-01 -1.2554e-01  ...  -1.2826e-01 -1.5536e-01 -1.2911e-01\n",
       " -1.5517e-01 -1.5938e-01 -1.7557e-01  ...  -1.5153e-01 -1.3667e-01 -1.2795e-01\n",
       "      ⋮  \n",
       "\n",
       "( 2 , 0 ,.,.) = \n",
       " -1.0125e-01 -1.2887e-01 -1.0083e-01  ...  -8.5243e-02 -1.1212e-01 -1.1804e-01\n",
       " -1.2934e-01 -1.5089e-01 -1.0384e-01  ...  -4.6481e-02 -9.0797e-02 -1.1251e-01\n",
       " -9.8502e-02 -1.2314e-01 -7.7603e-02  ...  -4.2518e-02 -8.5428e-02 -1.0851e-01\n",
       "                 ...                   ⋱                   ...                \n",
       " -1.2824e-01 -1.1765e-01 -9.0062e-02  ...  -1.2554e-01 -1.5207e-01 -1.2638e-01\n",
       " -1.6437e-01 -1.5320e-01 -1.2554e-01  ...  -1.2826e-01 -1.5536e-01 -1.2911e-01\n",
       " -1.5517e-01 -1.5938e-01 -1.7557e-01  ...  -1.5153e-01 -1.3667e-01 -1.2795e-01\n",
       "...     \n",
       "      ⋮  \n",
       "\n",
       "( 7 , 0 ,.,.) = \n",
       " -1.0126e-01 -1.2886e-01 -1.0083e-01  ...  -8.5247e-02 -1.1212e-01 -1.1804e-01\n",
       " -1.2935e-01 -1.5089e-01 -1.0385e-01  ...  -4.6491e-02 -9.0805e-02 -1.1252e-01\n",
       " -9.8510e-02 -1.2314e-01 -7.7614e-02  ...  -4.2538e-02 -8.5442e-02 -1.0851e-01\n",
       "                 ...                   ⋱                   ...                \n",
       " -1.2824e-01 -1.1765e-01 -9.0062e-02  ...  -1.2554e-01 -1.5207e-01 -1.2639e-01\n",
       " -1.6437e-01 -1.5320e-01 -1.2554e-01  ...  -1.2826e-01 -1.5536e-01 -1.2912e-01\n",
       " -1.5517e-01 -1.5938e-01 -1.7557e-01  ...  -1.5153e-01 -1.3667e-01 -1.2795e-01\n",
       "      ⋮  \n",
       "\n",
       "( 8 , 0 ,.,.) = \n",
       " -1.0126e-01 -1.2886e-01 -1.0082e-01  ...  -8.5247e-02 -1.1212e-01 -1.1804e-01\n",
       " -1.2935e-01 -1.5089e-01 -1.0386e-01  ...  -4.6491e-02 -9.0805e-02 -1.1252e-01\n",
       " -9.8513e-02 -1.2316e-01 -7.7634e-02  ...  -4.2537e-02 -8.5442e-02 -1.0851e-01\n",
       "                 ...                   ⋱                   ...                \n",
       " -1.2824e-01 -1.1765e-01 -9.0062e-02  ...  -1.2554e-01 -1.5207e-01 -1.2638e-01\n",
       " -1.6437e-01 -1.5320e-01 -1.2554e-01  ...  -1.2826e-01 -1.5536e-01 -1.2911e-01\n",
       " -1.5517e-01 -1.5938e-01 -1.7557e-01  ...  -1.5153e-01 -1.3667e-01 -1.2795e-01\n",
       "      ⋮  \n",
       "\n",
       "( 9 , 0 ,.,.) = \n",
       " -1.0126e-01 -1.2886e-01 -1.0082e-01  ...  -8.5247e-02 -1.1212e-01 -1.1804e-01\n",
       " -1.2935e-01 -1.5089e-01 -1.0386e-01  ...  -4.6491e-02 -9.0805e-02 -1.1252e-01\n",
       " -9.8513e-02 -1.2316e-01 -7.7634e-02  ...  -4.2537e-02 -8.5442e-02 -1.0851e-01\n",
       "                 ...                   ⋱                   ...                \n",
       " -1.2824e-01 -1.1765e-01 -9.0062e-02  ...  -1.2554e-01 -1.5207e-01 -1.2638e-01\n",
       " -1.6437e-01 -1.5320e-01 -1.2554e-01  ...  -1.2826e-01 -1.5536e-01 -1.2911e-01\n",
       " -1.5517e-01 -1.5938e-01 -1.7557e-01  ...  -1.5153e-01 -1.3667e-01 -1.2795e-01\n",
       "[torch.FloatTensor of size 10x1x288x351]"
      ]
     },
     "execution_count": 404,
     "metadata": {},
     "output_type": "execute_result"
    }
   ],
   "source": [
    "low_temp"
   ]
  },
  {
   "cell_type": "code",
   "execution_count": 405,
   "metadata": {},
   "outputs": [
    {
     "data": {
      "text/plain": [
       "Variable containing:\n",
       "( 0 , 0 ,.,.) = \n",
       "  0.1370  0.1371  0.1374  ...   0.1015  0.1007  0.1003\n",
       "  0.1361  0.1362  0.1364  ...   0.1021  0.1012  0.1008\n",
       "  0.1338  0.1337  0.1335  ...   0.1032  0.1022  0.1018\n",
       "           ...             ⋱             ...          \n",
       "  0.1980  0.1985  0.1996  ...   0.1789  0.1783  0.1782\n",
       "  0.1978  0.1984  0.1997  ...   0.1791  0.1785  0.1784\n",
       "  0.1978  0.1984  0.1997  ...   0.1793  0.1787  0.1785\n",
       "      ⋮  \n",
       "\n",
       "( 1 , 0 ,.,.) = \n",
       "  0.1370  0.1371  0.1374  ...   0.1015  0.1007  0.1003\n",
       "  0.1361  0.1362  0.1364  ...   0.1021  0.1012  0.1008\n",
       "  0.1338  0.1337  0.1335  ...   0.1032  0.1022  0.1018\n",
       "           ...             ⋱             ...          \n",
       "  0.1980  0.1985  0.1996  ...   0.1789  0.1783  0.1782\n",
       "  0.1978  0.1984  0.1997  ...   0.1791  0.1785  0.1784\n",
       "  0.1978  0.1984  0.1997  ...   0.1793  0.1787  0.1785\n",
       "      ⋮  \n",
       "\n",
       "( 2 , 0 ,.,.) = \n",
       "  0.1370  0.1371  0.1375  ...   0.1015  0.1007  0.1003\n",
       "  0.1362  0.1362  0.1364  ...   0.1021  0.1012  0.1008\n",
       "  0.1338  0.1337  0.1335  ...   0.1032  0.1022  0.1018\n",
       "           ...             ⋱             ...          \n",
       "  0.1980  0.1985  0.1996  ...   0.1789  0.1783  0.1782\n",
       "  0.1978  0.1984  0.1997  ...   0.1791  0.1785  0.1784\n",
       "  0.1978  0.1984  0.1997  ...   0.1793  0.1787  0.1785\n",
       "...     \n",
       "      ⋮  \n",
       "\n",
       "( 7 , 0 ,.,.) = \n",
       "  0.1370  0.1371  0.1374  ...   0.1015  0.1007  0.1003\n",
       "  0.1361  0.1362  0.1363  ...   0.1021  0.1012  0.1008\n",
       "  0.1337  0.1336  0.1335  ...   0.1032  0.1022  0.1018\n",
       "           ...             ⋱             ...          \n",
       "  0.1980  0.1985  0.1996  ...   0.1788  0.1783  0.1782\n",
       "  0.1978  0.1984  0.1997  ...   0.1791  0.1785  0.1784\n",
       "  0.1978  0.1984  0.1997  ...   0.1793  0.1787  0.1785\n",
       "      ⋮  \n",
       "\n",
       "( 8 , 0 ,.,.) = \n",
       "  0.1370  0.1371  0.1374  ...   0.1015  0.1007  0.1003\n",
       "  0.1361  0.1362  0.1364  ...   0.1021  0.1012  0.1008\n",
       "  0.1338  0.1337  0.1335  ...   0.1032  0.1022  0.1018\n",
       "           ...             ⋱             ...          \n",
       "  0.1980  0.1985  0.1996  ...   0.1789  0.1783  0.1782\n",
       "  0.1978  0.1984  0.1997  ...   0.1791  0.1785  0.1784\n",
       "  0.1978  0.1984  0.1997  ...   0.1793  0.1787  0.1785\n",
       "      ⋮  \n",
       "\n",
       "( 9 , 0 ,.,.) = \n",
       "  0.1370  0.1371  0.1374  ...   0.1015  0.1007  0.1003\n",
       "  0.1361  0.1362  0.1364  ...   0.1021  0.1012  0.1008\n",
       "  0.1338  0.1337  0.1335  ...   0.1032  0.1022  0.1018\n",
       "           ...             ⋱             ...          \n",
       "  0.1980  0.1985  0.1996  ...   0.1789  0.1783  0.1782\n",
       "  0.1978  0.1984  0.1997  ...   0.1791  0.1785  0.1784\n",
       "  0.1978  0.1984  0.1997  ...   0.1793  0.1787  0.1785\n",
       "[torch.FloatTensor of size 10x1x288x351]"
      ]
     },
     "execution_count": 405,
     "metadata": {},
     "output_type": "execute_result"
    }
   ],
   "source": [
    "low"
   ]
  },
  {
   "cell_type": "code",
   "execution_count": 412,
   "metadata": {},
   "outputs": [],
   "source": [
    "class a(object):\n",
    "    def __init__(self, temp):\n",
    "        self.temp = temp\n",
    "class b(a):\n",
    "    pass\n",
    "\n",
    "var = b('temp')"
   ]
  },
  {
   "cell_type": "code",
   "execution_count": 411,
   "metadata": {},
   "outputs": [
    {
     "data": {
      "text/plain": [
       "'temp'"
      ]
     },
     "execution_count": 411,
     "metadata": {},
     "output_type": "execute_result"
    }
   ],
   "source": [
    "var.temp"
   ]
  },
  {
   "cell_type": "code",
   "execution_count": 470,
   "metadata": {},
   "outputs": [
    {
     "name": "stdout",
     "output_type": "stream",
     "text": [
      "\u001b[0m\u001b[01;34makiyo\u001b[0m/      main.py    SCRNN_trained_model.pt  SR_datasets.pyc   Untitled.ipynb\r\n",
      "\u001b[01;34makiyo2\u001b[0m/     model.py   solver.py               \u001b[01;34mTest\u001b[0m/\r\n",
      "config.py   model.pyc  solver.pyc              \u001b[01;34mTrain\u001b[0m/\r\n",
      "config.pyc  \u001b[01;34mResult\u001b[0m/    SR_datasets.py          trained_model.pt\r\n"
     ]
    }
   ],
   "source": [
    "ls"
   ]
  },
  {
   "cell_type": "code",
   "execution_count": 471,
   "metadata": {},
   "outputs": [
    {
     "data": {
      "text/plain": [
       "True"
      ]
     },
     "execution_count": 471,
     "metadata": {},
     "output_type": "execute_result"
    }
   ],
   "source": [
    "os.path.exists('trained_model.pt')"
   ]
  },
  {
   "cell_type": "code",
   "execution_count": 33,
   "metadata": {},
   "outputs": [],
   "source": [
    " x= torch.Tensor([[1,2],[3,4]])"
   ]
  },
  {
   "cell_type": "code",
   "execution_count": 34,
   "metadata": {},
   "outputs": [
    {
     "data": {
      "text/plain": [
       "\n",
       " 1  2\n",
       " 3  4\n",
       "[torch.FloatTensor of size 2x2]"
      ]
     },
     "execution_count": 34,
     "metadata": {},
     "output_type": "execute_result"
    }
   ],
   "source": [
    "x\n"
   ]
  },
  {
   "cell_type": "code",
   "execution_count": 35,
   "metadata": {},
   "outputs": [
    {
     "data": {
      "text/plain": [
       "\n",
       " 0  0\n",
       " 0  0\n",
       "[torch.FloatTensor of size 2x2]"
      ]
     },
     "execution_count": 35,
     "metadata": {},
     "output_type": "execute_result"
    }
   ],
   "source": [
    "out = torch.zeros(2, 2)\n",
    "out"
   ]
  },
  {
   "cell_type": "code",
   "execution_count": 36,
   "metadata": {},
   "outputs": [],
   "source": [
    "x = Variable(x)\n",
    "out = Variable(out)"
   ]
  },
  {
   "cell_type": "code",
   "execution_count": 37,
   "metadata": {},
   "outputs": [],
   "source": [
    "out[0,0] = x[0, 0]"
   ]
  },
  {
   "cell_type": "code",
   "execution_count": 38,
   "metadata": {},
   "outputs": [],
   "source": [
    "out[0,1] = x[0, 1]\n",
    "out[1, 0] = x[1, 0]\n",
    "out[1, 1] = x[1, 1]\n"
   ]
  },
  {
   "cell_type": "code",
   "execution_count": 39,
   "metadata": {},
   "outputs": [],
   "source": [
    "z = torch.mean(out)"
   ]
  },
  {
   "cell_type": "code",
   "execution_count": 40,
   "metadata": {},
   "outputs": [],
   "source": [
    "x.requires_grad = True"
   ]
  },
  {
   "cell_type": "code",
   "execution_count": 43,
   "metadata": {},
   "outputs": [
    {
     "ename": "RuntimeError",
     "evalue": "there are no graph nodes that require computing gradients",
     "output_type": "error",
     "traceback": [
      "\u001b[0;31m---------------------------------------------------------------------------\u001b[0m",
      "\u001b[0;31mRuntimeError\u001b[0m                              Traceback (most recent call last)",
      "\u001b[0;32m<ipython-input-43-40c0c9b0bbab>\u001b[0m in \u001b[0;36m<module>\u001b[0;34m()\u001b[0m\n\u001b[0;32m----> 1\u001b[0;31m \u001b[0mz\u001b[0m\u001b[0;34m.\u001b[0m\u001b[0mbackward\u001b[0m\u001b[0;34m(\u001b[0m\u001b[0;34m)\u001b[0m\u001b[0;34m\u001b[0m\u001b[0m\n\u001b[0m",
      "\u001b[0;32m/mnt/hdd1/thangvubk/workspace/.global_env/local/lib/python2.7/site-packages/torch/autograd/variable.pyc\u001b[0m in \u001b[0;36mbackward\u001b[0;34m(self, gradient, retain_graph, create_graph, retain_variables)\u001b[0m\n\u001b[1;32m    154\u001b[0m                 \u001b[0mVariable\u001b[0m\u001b[0;34m.\u001b[0m\u001b[0;34m\u001b[0m\u001b[0m\n\u001b[1;32m    155\u001b[0m         \"\"\"\n\u001b[0;32m--> 156\u001b[0;31m         \u001b[0mtorch\u001b[0m\u001b[0;34m.\u001b[0m\u001b[0mautograd\u001b[0m\u001b[0;34m.\u001b[0m\u001b[0mbackward\u001b[0m\u001b[0;34m(\u001b[0m\u001b[0mself\u001b[0m\u001b[0;34m,\u001b[0m \u001b[0mgradient\u001b[0m\u001b[0;34m,\u001b[0m \u001b[0mretain_graph\u001b[0m\u001b[0;34m,\u001b[0m \u001b[0mcreate_graph\u001b[0m\u001b[0;34m,\u001b[0m \u001b[0mretain_variables\u001b[0m\u001b[0;34m)\u001b[0m\u001b[0;34m\u001b[0m\u001b[0m\n\u001b[0m\u001b[1;32m    157\u001b[0m \u001b[0;34m\u001b[0m\u001b[0m\n\u001b[1;32m    158\u001b[0m     \u001b[0;32mdef\u001b[0m \u001b[0mregister_hook\u001b[0m\u001b[0;34m(\u001b[0m\u001b[0mself\u001b[0m\u001b[0;34m,\u001b[0m \u001b[0mhook\u001b[0m\u001b[0;34m)\u001b[0m\u001b[0;34m:\u001b[0m\u001b[0;34m\u001b[0m\u001b[0m\n",
      "\u001b[0;32m/mnt/hdd1/thangvubk/workspace/.global_env/local/lib/python2.7/site-packages/torch/autograd/__init__.pyc\u001b[0m in \u001b[0;36mbackward\u001b[0;34m(variables, grad_variables, retain_graph, create_graph, retain_variables)\u001b[0m\n\u001b[1;32m     96\u001b[0m \u001b[0;34m\u001b[0m\u001b[0m\n\u001b[1;32m     97\u001b[0m     Variable._execution_engine.run_backward(\n\u001b[0;32m---> 98\u001b[0;31m         variables, grad_variables, retain_graph)\n\u001b[0m\u001b[1;32m     99\u001b[0m \u001b[0;34m\u001b[0m\u001b[0m\n\u001b[1;32m    100\u001b[0m \u001b[0;34m\u001b[0m\u001b[0m\n",
      "\u001b[0;31mRuntimeError\u001b[0m: there are no graph nodes that require computing gradients"
     ]
    }
   ],
   "source": [
    "z.backward()"
   ]
  },
  {
   "cell_type": "code",
   "execution_count": 53,
   "metadata": {},
   "outputs": [],
   "source": [
    "x = np.fromfunction(lambda i, j, k: (i + j + 2*k), (2, 2, 2), dtype=int\n",
    "                   )"
   ]
  },
  {
   "cell_type": "code",
   "execution_count": 54,
   "metadata": {},
   "outputs": [
    {
     "data": {
      "text/plain": [
       "array([[[0, 2],\n",
       "        [1, 3]],\n",
       "\n",
       "       [[1, 3],\n",
       "        [2, 4]]])"
      ]
     },
     "execution_count": 54,
     "metadata": {},
     "output_type": "execute_result"
    }
   ],
   "source": [
    "x"
   ]
  },
  {
   "cell_type": "code",
   "execution_count": 55,
   "metadata": {},
   "outputs": [
    {
     "data": {
      "text/plain": [
       "array([[0, 2, 1, 3],\n",
       "       [1, 3, 2, 4]])"
      ]
     },
     "execution_count": 55,
     "metadata": {},
     "output_type": "execute_result"
    }
   ],
   "source": [
    "x.reshape(2, 4)"
   ]
  },
  {
   "cell_type": "code",
   "execution_count": 56,
   "metadata": {},
   "outputs": [
    {
     "data": {
      "text/plain": [
       "array([[[0, 1],\n",
       "        [2, 3]],\n",
       "\n",
       "       [[1, 2],\n",
       "        [3, 4]]])"
      ]
     },
     "execution_count": 56,
     "metadata": {},
     "output_type": "execute_result"
    }
   ],
   "source": [
    "x.transpose(0,2,1)"
   ]
  },
  {
   "cell_type": "code",
   "execution_count": 57,
   "metadata": {},
   "outputs": [
    {
     "data": {
      "text/plain": [
       "18"
      ]
     },
     "execution_count": 57,
     "metadata": {},
     "output_type": "execute_result"
    }
   ],
   "source": [
    "2*3**2"
   ]
  },
  {
   "cell_type": "code",
   "execution_count": 58,
   "metadata": {},
   "outputs": [],
   "source": [
    "def shuffle(image):\n",
    "    SH, SW, C = image.shape\n",
    "    S = 3\n",
    "    W = SW//S\n",
    "    H = SH//S\n",
    "    \n",
    "    out = np.zeros((H, W, C*S**2))\n",
    "    for h in range(H):\n",
    "        for w in range(W):\n",
    "            for c in range(C*S**2):\n",
    "                out[h, w, c] = image[h*S + c//S%S, w*S + c%S, 0]\n",
    "    return out\n"
   ]
  },
  {
   "cell_type": "code",
   "execution_count": 59,
   "metadata": {},
   "outputs": [],
   "source": [
    "image = np.fromfunction(lambda i, j: (i + j), (9, 9), dtype=int)"
   ]
  },
  {
   "cell_type": "code",
   "execution_count": 60,
   "metadata": {},
   "outputs": [
    {
     "data": {
      "text/plain": [
       "array([[ 0,  1,  2,  3,  4,  5,  6,  7,  8],\n",
       "       [ 1,  2,  3,  4,  5,  6,  7,  8,  9],\n",
       "       [ 2,  3,  4,  5,  6,  7,  8,  9, 10],\n",
       "       [ 3,  4,  5,  6,  7,  8,  9, 10, 11],\n",
       "       [ 4,  5,  6,  7,  8,  9, 10, 11, 12],\n",
       "       [ 5,  6,  7,  8,  9, 10, 11, 12, 13],\n",
       "       [ 6,  7,  8,  9, 10, 11, 12, 13, 14],\n",
       "       [ 7,  8,  9, 10, 11, 12, 13, 14, 15],\n",
       "       [ 8,  9, 10, 11, 12, 13, 14, 15, 16]])"
      ]
     },
     "execution_count": 60,
     "metadata": {},
     "output_type": "execute_result"
    }
   ],
   "source": [
    "image"
   ]
  },
  {
   "cell_type": "code",
   "execution_count": 61,
   "metadata": {},
   "outputs": [],
   "source": [
    "image = image[:, :, np.newaxis]"
   ]
  },
  {
   "cell_type": "code",
   "execution_count": 63,
   "metadata": {},
   "outputs": [
    {
     "data": {
      "text/plain": [
       "array([[ 0,  1,  2,  3,  4,  5,  6,  7,  8],\n",
       "       [ 1,  2,  3,  4,  5,  6,  7,  8,  9],\n",
       "       [ 2,  3,  4,  5,  6,  7,  8,  9, 10],\n",
       "       [ 3,  4,  5,  6,  7,  8,  9, 10, 11],\n",
       "       [ 4,  5,  6,  7,  8,  9, 10, 11, 12],\n",
       "       [ 5,  6,  7,  8,  9, 10, 11, 12, 13],\n",
       "       [ 6,  7,  8,  9, 10, 11, 12, 13, 14],\n",
       "       [ 7,  8,  9, 10, 11, 12, 13, 14, 15],\n",
       "       [ 8,  9, 10, 11, 12, 13, 14, 15, 16]])"
      ]
     },
     "execution_count": 63,
     "metadata": {},
     "output_type": "execute_result"
    }
   ],
   "source": [
    "image[:, :, 0]"
   ]
  },
  {
   "cell_type": "code",
   "execution_count": 64,
   "metadata": {},
   "outputs": [],
   "source": [
    "out = shuffle(image)"
   ]
  },
  {
   "cell_type": "code",
   "execution_count": 65,
   "metadata": {},
   "outputs": [
    {
     "data": {
      "text/plain": [
       "(3, 3, 9)"
      ]
     },
     "execution_count": 65,
     "metadata": {},
     "output_type": "execute_result"
    }
   ],
   "source": [
    "out.shape"
   ]
  },
  {
   "cell_type": "code",
   "execution_count": 74,
   "metadata": {},
   "outputs": [
    {
     "ename": "IndexError",
     "evalue": "index 9 is out of bounds for axis 2 with size 9",
     "output_type": "error",
     "traceback": [
      "\u001b[0;31m---------------------------------------------------------------------------\u001b[0m",
      "\u001b[0;31mIndexError\u001b[0m                                Traceback (most recent call last)",
      "\u001b[0;32m<ipython-input-74-7015528b55e5>\u001b[0m in \u001b[0;36m<module>\u001b[0;34m()\u001b[0m\n\u001b[0;32m----> 1\u001b[0;31m \u001b[0mout\u001b[0m\u001b[0;34m[\u001b[0m\u001b[0;34m:\u001b[0m\u001b[0;34m,\u001b[0m \u001b[0;34m:\u001b[0m\u001b[0;34m,\u001b[0m \u001b[0;36m9\u001b[0m\u001b[0;34m]\u001b[0m\u001b[0;34m\u001b[0m\u001b[0m\n\u001b[0m",
      "\u001b[0;31mIndexError\u001b[0m: index 9 is out of bounds for axis 2 with size 9"
     ]
    }
   ],
   "source": [
    "out[:, :, 9]"
   ]
  },
  {
   "cell_type": "code",
   "execution_count": 26,
   "metadata": {},
   "outputs": [],
   "source": [
    "temp = scipy.misc.imread('Test/Set5/butterfly_GT.bmp')"
   ]
  },
  {
   "cell_type": "code",
   "execution_count": null,
   "metadata": {},
   "outputs": [],
   "source": []
  },
  {
   "cell_type": "code",
   "execution_count": 27,
   "metadata": {},
   "outputs": [],
   "source": [
    "scipy.misc.imsave('temp.bmp', temp)"
   ]
  },
  {
   "cell_type": "code",
   "execution_count": 28,
   "metadata": {},
   "outputs": [],
   "source": [
    "temp1 = scipy.misc.imread('temp.bmp')"
   ]
  },
  {
   "cell_type": "code",
   "execution_count": 29,
   "metadata": {},
   "outputs": [
    {
     "data": {
      "text/plain": [
       "array([[[ 42,  30,  22],\n",
       "        [ 58,  43,  26],\n",
       "        [ 85,  66,  42],\n",
       "        ..., \n",
       "        [ 77,  59,  52],\n",
       "        [ 74,  56,  49],\n",
       "        [ 74,  56,  49]],\n",
       "\n",
       "       [[ 41,  23,  12],\n",
       "        [ 47,  29,  13],\n",
       "        [ 54,  38,  19],\n",
       "        ..., \n",
       "        [ 74,  56,  51],\n",
       "        [ 75,  57,  53],\n",
       "        [ 74,  56,  51]],\n",
       "\n",
       "       [[ 80,  62,  46],\n",
       "        [ 52,  32,  14],\n",
       "        [ 42,  25,  12],\n",
       "        ..., \n",
       "        [ 74,  58,  53],\n",
       "        [ 75,  60,  53],\n",
       "        [ 70,  54,  48]],\n",
       "\n",
       "       ..., \n",
       "       [[ 98,  25,  24],\n",
       "        [ 90,  33,  26],\n",
       "        [ 96,  37,  25],\n",
       "        ..., \n",
       "        [151, 101,  74],\n",
       "        [151, 103,  75],\n",
       "        [146, 101,  73]],\n",
       "\n",
       "       [[100,  23,  23],\n",
       "        [ 97,  30,  25],\n",
       "        [117,  46,  39],\n",
       "        ..., \n",
       "        [152, 105,  74],\n",
       "        [150, 102,  74],\n",
       "        [149, 104,  75]],\n",
       "\n",
       "       [[110,  23,  27],\n",
       "        [109,  30,  29],\n",
       "        [122,  41,  42],\n",
       "        ..., \n",
       "        [152, 105,  74],\n",
       "        [150, 102,  74],\n",
       "        [148, 103,  74]]], dtype=uint8)"
      ]
     },
     "execution_count": 29,
     "metadata": {},
     "output_type": "execute_result"
    }
   ],
   "source": [
    "temp1"
   ]
  },
  {
   "cell_type": "code",
   "execution_count": 13,
   "metadata": {},
   "outputs": [],
   "source": [
    "a =np.array([[0, 3, 2, 2, 4, 0, 3, 0],\n",
    "       [2, 0, 0, 3, 3, 1, 3, 0],\n",
    "       [2, 4, 4, 0, 2, 3, 1, 3],\n",
    "       [0, 1, 3, 1, 0, 0, 0, 4],\n",
    "       [2, 1, 1, 2, 1, 1, 3, 1],\n",
    "       [0, 4, 0, 1, 0, 0, 2, 3],\n",
    "       [3, 1, 3, 3, 3, 2, 3, 4],\n",
    "       [0, 4, 1, 4, 2, 2, 0, 2]])"
   ]
  },
  {
   "cell_type": "code",
   "execution_count": 14,
   "metadata": {},
   "outputs": [
    {
     "data": {
      "text/plain": [
       "array([[0, 3, 2, 2, 4, 0, 3, 0],\n",
       "       [2, 0, 0, 3, 3, 1, 3, 0],\n",
       "       [2, 4, 4, 0, 2, 3, 1, 3],\n",
       "       [0, 1, 3, 1, 0, 0, 0, 4],\n",
       "       [2, 1, 1, 2, 1, 1, 3, 1],\n",
       "       [0, 4, 0, 1, 0, 0, 2, 3],\n",
       "       [3, 1, 3, 3, 3, 2, 3, 4],\n",
       "       [0, 4, 1, 4, 2, 2, 0, 2]])"
      ]
     },
     "execution_count": 14,
     "metadata": {},
     "output_type": "execute_result"
    }
   ],
   "source": [
    "a"
   ]
  },
  {
   "cell_type": "code",
   "execution_count": 32,
   "metadata": {},
   "outputs": [
    {
     "data": {
      "text/plain": [
       "array([[[ True,  True,  True],\n",
       "        [ True,  True,  True],\n",
       "        [ True,  True,  True],\n",
       "        ..., \n",
       "        [ True,  True,  True],\n",
       "        [ True,  True,  True],\n",
       "        [ True,  True,  True]],\n",
       "\n",
       "       [[ True,  True,  True],\n",
       "        [ True,  True,  True],\n",
       "        [ True,  True,  True],\n",
       "        ..., \n",
       "        [ True,  True,  True],\n",
       "        [ True,  True,  True],\n",
       "        [ True,  True,  True]],\n",
       "\n",
       "       [[ True,  True,  True],\n",
       "        [ True,  True,  True],\n",
       "        [ True,  True,  True],\n",
       "        ..., \n",
       "        [ True,  True,  True],\n",
       "        [ True,  True,  True],\n",
       "        [ True,  True,  True]],\n",
       "\n",
       "       ..., \n",
       "       [[ True,  True,  True],\n",
       "        [ True,  True,  True],\n",
       "        [ True,  True,  True],\n",
       "        ..., \n",
       "        [ True,  True,  True],\n",
       "        [ True,  True,  True],\n",
       "        [ True,  True,  True]],\n",
       "\n",
       "       [[ True,  True,  True],\n",
       "        [ True,  True,  True],\n",
       "        [ True,  True,  True],\n",
       "        ..., \n",
       "        [ True,  True,  True],\n",
       "        [ True,  True,  True],\n",
       "        [ True,  True,  True]],\n",
       "\n",
       "       [[ True,  True,  True],\n",
       "        [ True,  True,  True],\n",
       "        [ True,  True,  True],\n",
       "        ..., \n",
       "        [ True,  True,  True],\n",
       "        [ True,  True,  True],\n",
       "        [ True,  True,  True]]], dtype=bool)"
      ]
     },
     "execution_count": 32,
     "metadata": {},
     "output_type": "execute_result"
    }
   ],
   "source": [
    "temp == temp1"
   ]
  },
  {
   "cell_type": "code",
   "execution_count": 40,
   "metadata": {},
   "outputs": [],
   "source": [
    "#os.makedirs('temp')\n",
    "os.removedirs('temp')"
   ]
  },
  {
   "cell_type": "code",
   "execution_count": 128,
   "metadata": {},
   "outputs": [],
   "source": [
    "from SR_datasets import DataAugment"
   ]
  },
  {
   "cell_type": "code",
   "execution_count": 129,
   "metadata": {},
   "outputs": [],
   "source": [
    "da = DataAugment('Train')"
   ]
  },
  {
   "cell_type": "code",
   "execution_count": 130,
   "metadata": {},
   "outputs": [
    {
     "data": {
      "text/plain": [
       "SR_datasets.DataAugment"
      ]
     },
     "execution_count": 130,
     "metadata": {},
     "output_type": "execute_result"
    }
   ],
   "source": [
    "type(da)"
   ]
  },
  {
   "cell_type": "code",
   "execution_count": 131,
   "metadata": {},
   "outputs": [],
   "source": [
    "da.augment()"
   ]
  },
  {
   "cell_type": "code",
   "execution_count": 116,
   "metadata": {},
   "outputs": [
    {
     "data": {
      "text/plain": [
       "<generator object walk at 0x7f09d5e1ef00>"
      ]
     },
     "execution_count": 116,
     "metadata": {},
     "output_type": "execute_result"
    }
   ],
   "source": [
    "os.walk('AugTrain/')"
   ]
  },
  {
   "cell_type": "code",
   "execution_count": 132,
   "metadata": {},
   "outputs": [
    {
     "name": "stdout",
     "output_type": "stream",
     "text": [
      "['1220.bmp', '1041.bmp', '4190.bmp', '3366.bmp', '1959.bmp', '0300.bmp', '2725.bmp', '1608.bmp', '4294.bmp', '3484.bmp', '2201.bmp', '2302.bmp', '1623.bmp', '3345.bmp', '2860.bmp', '2300.bmp', '1542.bmp', '0794.bmp', '3429.bmp', '0242.bmp', '4020.bmp', '2022.bmp', '1632.bmp', '3527.bmp', '2071.bmp', '2574.bmp', '2108.bmp', '3294.bmp', '0681.bmp', '2200.bmp', '2911.bmp', '4341.bmp', '2467.bmp', '3215.bmp', '0403.bmp', '2843.bmp', '1039.bmp', '2636.bmp', '0627.bmp', '1204.bmp', '2462.bmp', '0855.bmp', '2207.bmp', '1616.bmp', '0522.bmp', '2213.bmp', '0764.bmp', '3688.bmp', '4264.bmp', '2592.bmp', '1325.bmp', '0676.bmp', '2983.bmp', '3473.bmp', '2007.bmp', '1190.bmp', '3063.bmp', '1291.bmp', '3650.bmp', '1332.bmp', '3053.bmp', '3541.bmp', '3504.bmp', '2757.bmp', '2621.bmp', '2588.bmp', '3064.bmp', '2772.bmp', '0752.bmp', '3709.bmp', '3766.bmp', '1503.bmp', '1462.bmp', '1683.bmp', '3315.bmp', '2521.bmp', '0701.bmp', '3392.bmp', '2023.bmp', '0193.bmp', '1901.bmp', '2716.bmp', '2144.bmp', '2831.bmp', '2405.bmp', '3450.bmp', '2610.bmp', '2065.bmp', '1399.bmp', '2211.bmp', '2775.bmp', '0779.bmp', '4315.bmp', '0030.bmp', '0005.bmp', '1265.bmp', '2830.bmp', '0058.bmp', '1060.bmp', '0562.bmp', '0378.bmp', '2726.bmp', '0065.bmp', '1279.bmp', '2657.bmp', '3376.bmp', '1077.bmp', '2378.bmp', '2519.bmp', '1001.bmp', '2859.bmp', '1109.bmp', '2137.bmp', '1729.bmp', '3229.bmp', '2575.bmp', '3020.bmp', '3518.bmp', '3922.bmp', '4260.bmp', '1011.bmp', '1317.bmp', '0465.bmp', '0845.bmp', '3256.bmp', '3624.bmp', '1987.bmp', '0523.bmp', '0886.bmp', '2380.bmp', '3911.bmp', '2838.bmp', '3029.bmp', '3115.bmp', '4055.bmp', '3700.bmp', '2035.bmp', '1300.bmp', '1912.bmp', '3731.bmp', '2103.bmp', '2790.bmp', '3316.bmp', '3124.bmp', '3418.bmp', '2408.bmp', '2466.bmp', '0863.bmp', '0199.bmp', '3801.bmp', '3344.bmp', '3145.bmp', '2422.bmp', '0356.bmp', '3974.bmp', '2452.bmp', '0796.bmp', '3120.bmp', '2345.bmp', '4303.bmp', '0856.bmp', '2463.bmp', '2473.bmp', '1492.bmp', '4144.bmp', '3568.bmp', '2146.bmp', '1811.bmp', '2085.bmp', '2489.bmp', '1965.bmp', '2369.bmp', '0084.bmp', '0048.bmp', '0411.bmp', '3539.bmp', '2948.bmp', '4087.bmp', '0684.bmp', '2349.bmp', '3954.bmp', '2492.bmp', '3655.bmp', '3720.bmp', '2878.bmp', '4353.bmp', '3098.bmp', '3047.bmp', '1483.bmp', '4307.bmp', '0874.bmp', '0543.bmp', '1778.bmp', '2483.bmp', '0641.bmp', '3105.bmp', '0042.bmp', '3871.bmp', '3154.bmp', '0897.bmp', '3094.bmp', '0574.bmp', '4076.bmp', '1870.bmp', '3993.bmp', '1739.bmp', '0558.bmp', '0988.bmp', '4109.bmp', '2934.bmp', '1476.bmp', '2344.bmp', '1555.bmp', '0349.bmp', '3068.bmp', '3934.bmp', '2494.bmp', '2271.bmp', '2374.bmp', '3561.bmp', '0707.bmp', '0801.bmp', '1774.bmp', '1361.bmp', '0947.bmp', '1263.bmp', '1868.bmp', '2061.bmp', '2188.bmp', '0274.bmp', '0260.bmp', '1196.bmp', '1628.bmp', '1609.bmp', '3609.bmp', '0540.bmp', '2263.bmp', '0154.bmp', '2999.bmp', '1999.bmp', '3358.bmp', '4104.bmp', '0208.bmp', '3118.bmp', '2242.bmp', '0935.bmp', '1640.bmp', '0250.bmp', '0598.bmp', '2941.bmp', '2167.bmp', '3756.bmp', '2306.bmp', '3936.bmp', '3404.bmp', '0634.bmp', '4021.bmp', '4012.bmp', '2484.bmp', '1101.bmp', '1867.bmp', '2922.bmp', '1648.bmp', '0714.bmp', '2971.bmp', '3350.bmp', '3878.bmp', '0315.bmp', '4333.bmp', '2514.bmp', '3919.bmp', '4226.bmp', '3219.bmp', '2810.bmp', '2197.bmp', '1121.bmp', '2950.bmp', '0588.bmp', '1656.bmp', '0119.bmp', '0395.bmp', '0548.bmp', '0750.bmp', '3335.bmp', '0160.bmp', '2930.bmp', '1756.bmp', '0180.bmp', '3892.bmp', '0143.bmp', '2819.bmp', '2985.bmp', '0299.bmp', '3675.bmp', '3373.bmp', '2746.bmp', '4006.bmp', '2617.bmp', '1248.bmp', '2619.bmp', '0706.bmp', '0913.bmp', '0577.bmp', '0635.bmp', '4186.bmp', '0849.bmp', '1513.bmp', '1044.bmp', '3466.bmp', '2095.bmp', '3777.bmp', '0898.bmp', '0104.bmp', '2671.bmp', '0248.bmp', '3966.bmp', '3430.bmp', '1145.bmp', '3432.bmp', '2400.bmp', '1439.bmp', '1813.bmp', '2135.bmp', '0390.bmp', '3722.bmp', '1085.bmp', '3557.bmp', '1764.bmp', '0671.bmp', '1526.bmp', '2326.bmp', '3378.bmp', '2698.bmp', '3150.bmp', '0268.bmp', '1962.bmp', '3706.bmp', '1134.bmp', '0357.bmp', '4318.bmp', '1805.bmp', '3419.bmp', '0662.bmp', '3781.bmp', '0337.bmp', '1309.bmp', '2710.bmp', '2984.bmp', '2809.bmp', '2894.bmp', '1712.bmp', '3753.bmp', '3093.bmp', '0362.bmp', '3149.bmp', '3615.bmp', '4359.bmp', '0144.bmp', '1471.bmp', '0582.bmp', '4331.bmp', '0320.bmp', '0340.bmp', '1702.bmp', '0717.bmp', '2440.bmp', '3488.bmp', '3058.bmp', '0637.bmp', '2453.bmp', '0944.bmp', '1822.bmp', '0869.bmp', '2079.bmp', '2932.bmp', '3523.bmp', '1223.bmp', '3357.bmp', '0557.bmp', '3092.bmp', '0975.bmp', '3702.bmp', '1086.bmp', '2121.bmp', '2850.bmp', '1276.bmp', '3375.bmp', '4258.bmp', '3101.bmp', '1855.bmp', '0006.bmp', '0848.bmp', '3944.bmp', '2858.bmp', '1613.bmp', '3900.bmp', '0675.bmp', '3510.bmp', '1076.bmp', '3387.bmp', '1402.bmp', '0035.bmp', '1675.bmp', '3320.bmp', '0189.bmp', '1389.bmp', '1226.bmp', '1934.bmp', '0309.bmp', '0998.bmp', '3824.bmp', '0393.bmp', '2630.bmp', '0793.bmp', '2882.bmp', '3398.bmp', '1489.bmp', '3242.bmp', '1185.bmp', '3406.bmp', '3487.bmp', '0728.bmp', '3099.bmp', '3574.bmp', '2626.bmp', '4351.bmp', '0806.bmp', '2124.bmp', '0285.bmp', '4254.bmp', '3493.bmp', '4049.bmp', '3730.bmp', '1839.bmp', '0692.bmp', '2162.bmp', '2861.bmp', '2598.bmp', '1247.bmp', '0418.bmp', '3525.bmp', '0638.bmp', '0531.bmp', '0151.bmp', '3132.bmp', '2138.bmp', '0901.bmp', '3027.bmp', '3383.bmp', '2674.bmp', '2905.bmp', '1666.bmp', '2398.bmp', '2208.bmp', '3782.bmp', '1486.bmp', '2654.bmp', '0930.bmp', '2886.bmp', '3434.bmp', '0743.bmp', '2350.bmp', '3372.bmp', '1239.bmp', '4277.bmp', '2522.bmp', '0593.bmp', '0509.bmp', '2750.bmp', '4272.bmp', '3489.bmp', '2801.bmp', '1699.bmp', '0517.bmp', '3287.bmp', '4123.bmp', '4271.bmp', '0786.bmp', '0099.bmp', '2341.bmp', '0686.bmp', '1387.bmp', '1966.bmp', '4308.bmp', '2774.bmp', '3601.bmp', '2189.bmp', '0608.bmp', '3914.bmp', '0464.bmp', '0651.bmp', '1746.bmp', '0409.bmp', '3613.bmp', '0833.bmp', '0010.bmp', '2414.bmp', '2683.bmp', '2244.bmp', '1281.bmp', '0740.bmp', '2736.bmp', '1115.bmp', '3575.bmp', '1098.bmp', '2789.bmp', '1478.bmp', '0229.bmp', '4319.bmp', '1617.bmp', '0392.bmp', '4122.bmp', '3947.bmp', '3282.bmp', '1470.bmp', '2909.bmp', '0896.bmp', '1150.bmp', '4354.bmp', '1411.bmp', '2977.bmp', '1971.bmp', '2959.bmp', '0694.bmp', '3910.bmp', '2275.bmp', '1485.bmp', '0705.bmp', '2793.bmp', '1249.bmp', '3854.bmp', '3009.bmp', '2645.bmp', '2827.bmp', '4194.bmp', '3685.bmp', '2712.bmp', '0670.bmp', '0925.bmp', '2942.bmp', '3141.bmp', '0041.bmp', '1189.bmp', '2420.bmp', '1791.bmp', '4335.bmp', '1612.bmp', '1228.bmp', '4269.bmp', '4195.bmp', '2237.bmp', '3155.bmp', '2584.bmp', '1892.bmp', '2778.bmp', '3462.bmp', '0446.bmp', '0202.bmp', '3683.bmp', '2531.bmp', '0286.bmp', '2287.bmp', '0115.bmp', '1393.bmp', '4199.bmp', '3764.bmp', '1482.bmp', '0576.bmp', '1597.bmp', '1419.bmp', '1561.bmp', '1498.bmp', '0784.bmp', '3189.bmp', '4357.bmp', '1785.bmp', '3913.bmp', '3284.bmp', '0398.bmp', '0610.bmp', '0008.bmp', '4343.bmp', '0051.bmp', '0887.bmp', '3619.bmp', '1337.bmp', '3102.bmp', '3307.bmp', '4088.bmp', '2821.bmp', '0563.bmp', '2690.bmp', '1176.bmp', '3831.bmp', '1042.bmp', '1381.bmp', '3230.bmp', '1649.bmp', '0981.bmp', '0769.bmp', '1037.bmp', '0532.bmp', '2297.bmp', '2364.bmp', '0177.bmp', '1018.bmp', '3674.bmp', '0873.bmp', '0071.bmp', '0915.bmp', '0432.bmp', '2442.bmp', '0289.bmp', '4204.bmp', '2594.bmp', '3159.bmp', '3690.bmp', '3933.bmp', '3612.bmp', '3940.bmp', '0880.bmp', '0781.bmp', '2368.bmp', '4234.bmp', '1031.bmp', '1392.bmp', '0811.bmp', '0198.bmp', '0729.bmp', '3258.bmp', '2629.bmp', '1475.bmp', '4268.bmp', '2855.bmp', '0820.bmp', '3151.bmp', '1859.bmp', '1290.bmp', '3153.bmp', '0412.bmp', '4301.bmp', '2351.bmp', '4075.bmp', '4238.bmp', '4001.bmp', '2818.bmp', '1642.bmp', '0389.bmp', '0327.bmp', '0657.bmp', '1671.bmp', '0052.bmp', '4147.bmp', '2454.bmp', '2268.bmp', '2509.bmp', '1812.bmp', '0022.bmp', '1738.bmp', '1520.bmp', '1250.bmp', '4266.bmp', '1825.bmp', '3304.bmp', '2327.bmp', '0514.bmp', '1442.bmp', '1529.bmp', '0851.bmp', '1365.bmp', '0847.bmp', '0134.bmp', '2924.bmp', '4363.bmp', '2288.bmp', '2966.bmp', '1203.bmp', '0906.bmp', '3852.bmp', '3288.bmp', '3408.bmp', '0253.bmp', '2669.bmp', '1372.bmp', '1626.bmp', '0219.bmp', '0148.bmp', '3847.bmp', '0044.bmp', '2682.bmp', '4206.bmp', '2771.bmp', '3648.bmp', '4304.bmp', '1898.bmp', '2699.bmp', '2359.bmp', '0846.bmp', '0949.bmp', '3117.bmp', '0974.bmp', '4139.bmp', '1078.bmp', '0415.bmp', '2125.bmp', '3897.bmp', '3758.bmp', '1709.bmp', '3156.bmp', '0463.bmp', '3793.bmp', '4063.bmp', '2622.bmp', '1665.bmp', '3374.bmp', '1627.bmp', '2187.bmp', '2658.bmp', '0308.bmp', '1331.bmp', '2152.bmp', '2888.bmp', '3597.bmp', '3491.bmp', '3552.bmp', '1711.bmp', '1938.bmp', '2403.bmp', '0215.bmp', '1579.bmp', '1454.bmp', '2439.bmp', '3416.bmp', '2129.bmp', '4028.bmp', '3271.bmp', '2272.bmp', '4210.bmp', '1660.bmp', '1146.bmp', '1480.bmp', '1577.bmp', '3499.bmp', '1968.bmp', '2777.bmp', '2024.bmp', '2739.bmp', '0417.bmp', '2634.bmp', '2533.bmp', '3827.bmp', '2068.bmp', '1798.bmp', '2109.bmp', '1347.bmp', '2822.bmp', '4134.bmp', '2025.bmp', '3255.bmp', '0367.bmp', '3595.bmp', '2944.bmp', '2928.bmp', '3820.bmp', '3769.bmp', '2292.bmp', '0224.bmp', '0696.bmp', '2573.bmp', '3479.bmp', '1972.bmp', '2133.bmp', '0738.bmp', '3033.bmp', '3960.bmp', '0482.bmp', '1218.bmp', '0626.bmp', '3770.bmp', '2832.bmp', '0885.bmp', '4008.bmp', '1342.bmp', '1383.bmp', '1914.bmp', '1157.bmp', '0107.bmp', '0976.bmp', '3985.bmp', '1957.bmp', '4048.bmp', '2711.bmp', '3123.bmp', '0599.bmp', '2800.bmp', '2903.bmp', '4324.bmp', '3573.bmp', '1299.bmp', '1583.bmp', '2136.bmp', '4332.bmp', '4103.bmp', '2379.bmp', '3772.bmp', '0127.bmp', '0515.bmp', '0324.bmp', '3979.bmp', '1013.bmp', '2150.bmp', '1252.bmp', '3760.bmp', '1192.bmp', '3653.bmp', '2890.bmp', '3971.bmp', '0654.bmp', '1567.bmp', '2614.bmp', '0494.bmp', '3238.bmp', '2722.bmp', '1307.bmp', '0864.bmp', '1375.bmp', '1093.bmp', '0636.bmp', '3289.bmp', '0754.bmp', '3334.bmp', '2756.bmp', '1981.bmp', '0096.bmp', '2005.bmp', '2920.bmp', '3216.bmp', '0067.bmp', '0029.bmp', '0467.bmp', '2342.bmp', '3991.bmp', '2055.bmp', '1544.bmp', '1313.bmp', '2759.bmp', '1155.bmp', '4160.bmp', '3870.bmp', '1199.bmp', '3262.bmp', '1024.bmp', '2786.bmp', '3381.bmp', '0832.bmp', '0620.bmp', '2106.bmp', '4222.bmp', '3018.bmp', '4170.bmp', '0210.bmp', '3164.bmp', '1285.bmp', '0488.bmp', '2961.bmp', '4117.bmp', '0667.bmp', '1322.bmp', '2156.bmp', '3607.bmp', '0457.bmp', '0305.bmp', '0910.bmp', '4015.bmp', '0756.bmp', '2798.bmp', '1986.bmp', '4239.bmp', '0298.bmp', '4288.bmp', '4148.bmp', '3224.bmp', '0554.bmp', '0230.bmp', '4355.bmp', '2295.bmp', '3572.bmp', '0978.bmp', '0179.bmp', '3805.bmp', '1615.bmp', '3806.bmp', '0232.bmp', '3622.bmp', '2413.bmp', '1550.bmp', '2693.bmp', '4321.bmp', '2868.bmp', '3026.bmp', '3828.bmp', '3689.bmp', '3055.bmp', '4083.bmp', '0969.bmp', '0816.bmp', '1432.bmp', '2510.bmp', '3402.bmp', '0132.bmp', '2033.bmp', '1275.bmp', '1967.bmp', '2032.bmp', '1549.bmp', '0374.bmp', '3391.bmp', '2841.bmp', '2063.bmp', '4280.bmp', '3175.bmp', '2715.bmp', '0513.bmp', '2196.bmp', '2090.bmp', '3162.bmp', '3135.bmp', '2046.bmp', '2234.bmp', '3269.bmp', '1750.bmp', '0542.bmp', '3632.bmp', '2289.bmp', '3555.bmp', '1158.bmp', '3384.bmp', '1982.bmp', '2417.bmp', '0368.bmp', '1563.bmp', '4220.bmp', '2796.bmp', '2530.bmp', '0064.bmp', '2582.bmp', '2346.bmp', '0697.bmp', '1177.bmp', '2130.bmp', '4116.bmp', '1734.bmp', '3034.bmp', '0026.bmp', '1691.bmp', '0652.bmp', '3008.bmp', '1067.bmp', '3865.bmp', '2474.bmp', '1186.bmp', '3459.bmp', '4163.bmp', '4039.bmp', '2019.bmp', '0284.bmp', '0871.bmp', '1919.bmp', '1000.bmp', '1259.bmp', '0429.bmp', '1952.bmp', '1705.bmp', '2087.bmp', '1495.bmp', '3280.bmp', '2050.bmp', '3494.bmp', '0842.bmp', '0069.bmp', '3744.bmp', '4251.bmp', '3715.bmp', '3204.bmp', '2249.bmp', '3037.bmp', '2114.bmp', '2202.bmp', '0387.bmp', '3218.bmp', '2551.bmp', '3811.bmp', '0116.bmp', '2707.bmp', '0767.bmp', '1525.bmp', '4132.bmp', '1034.bmp', '0537.bmp', '3174.bmp', '3829.bmp', '3945.bmp', '3980.bmp', '2528.bmp', '0258.bmp', '0507.bmp', '1558.bmp', '0498.bmp', '2177.bmp', '3790.bmp', '0383.bmp', '0271.bmp', '0201.bmp', '0536.bmp', '1818.bmp', '0081.bmp', '3390.bmp', '1843.bmp', '1443.bmp', '3478.bmp', '0656.bmp', '0546.bmp', '2481.bmp', '0527.bmp', '2641.bmp', '3257.bmp', '2596.bmp', '4057.bmp', '1083.bmp', '1053.bmp', '2471.bmp', '2853.bmp', '1703.bmp', '0212.bmp', '0535.bmp', '3767.bmp', '1029.bmp', '4311.bmp', '3814.bmp', '0037.bmp', '0080.bmp', '4002.bmp', '3569.bmp', '2672.bmp', '3195.bmp', '2769.bmp', '1724.bmp', '2204.bmp', '3310.bmp', '2633.bmp', '4062.bmp', '1063.bmp', '2604.bmp', '0345.bmp', '4041.bmp', '1269.bmp', '0689.bmp', '2094.bmp', '3084.bmp', '1862.bmp', '2455.bmp', '3872.bmp', '1553.bmp', '1122.bmp', '3858.bmp', '1754.bmp', '1899.bmp', '1288.bmp', '1488.bmp', '3028.bmp', '2980.bmp', '2564.bmp', '1701.bmp', '3538.bmp', '2412.bmp', '2914.bmp', '0967.bmp', '4236.bmp', '3208.bmp', '1527.bmp', '2265.bmp', '0960.bmp', '4302.bmp', '1420.bmp', '4024.bmp', '1194.bmp', '1294.bmp', '2283.bmp', '0644.bmp', '1564.bmp', '3845.bmp', '1082.bmp', '4016.bmp', '1737.bmp', '0663.bmp', '3543.bmp', '3902.bmp', '0474.bmp', '0454.bmp', '4098.bmp', '3139.bmp', '2267.bmp', '1385.bmp', '2794.bmp', '1682.bmp', '1716.bmp', '0956.bmp', '3163.bmp', '3214.bmp', '0502.bmp', '0407.bmp', '1502.bmp', '0100.bmp', '1696.bmp', '0678.bmp', '4043.bmp', '4182.bmp', '3579.bmp', '4184.bmp', '4263.bmp', '1903.bmp', '2761.bmp', '2488.bmp', '1198.bmp', '2963.bmp', '1990.bmp', '0564.bmp', '2190.bmp', '1856.bmp', '2173.bmp', '2441.bmp', '1929.bmp', '0310.bmp', '0790.bmp', '1021.bmp', '3917.bmp', '0780.bmp', '1114.bmp', '0334.bmp', '0066.bmp', '0677.bmp', '0275.bmp', '1417.bmp', '3421.bmp', '3389.bmp', '3426.bmp', '0277.bmp', '3535.bmp', '3885.bmp', '2768.bmp', '3495.bmp', '0410.bmp', '0817.bmp', '2505.bmp', '3171.bmp', '3104.bmp', '3628.bmp', '3537.bmp', '2210.bmp', '3826.bmp', '0763.bmp', '0183.bmp', '0518.bmp', '3598.bmp', '1820.bmp', '0164.bmp', '4218.bmp', '2902.bmp', '2281.bmp', '3202.bmp', '2241.bmp', '3116.bmp', '4101.bmp', '1690.bmp', '1224.bmp', '1600.bmp', '1942.bmp', '1733.bmp', '3013.bmp', '1740.bmp', '0203.bmp', '0836.bmp', '1610.bmp', '1849.bmp', '1816.bmp', '0295.bmp', '3260.bmp', '3186.bmp', '3988.bmp', '0074.bmp', '2493.bmp', '1367.bmp', '2092.bmp', '0623.bmp', '3178.bmp', '4289.bmp', '2470.bmp', '0021.bmp', '2457.bmp', '3834.bmp', '3205.bmp', '3998.bmp', '3977.bmp', '1058.bmp', '0131.bmp', '0619.bmp', '2995.bmp', '3368.bmp', '3243.bmp', '3486.bmp', '1500.bmp', '0622.bmp', '1388.bmp', '2154.bmp', '4093.bmp', '1004.bmp', '1884.bmp', '3903.bmp', '0592.bmp', '0703.bmp', '1890.bmp', '2008.bmp', '4119.bmp', '2139.bmp', '0405.bmp', '0428.bmp', '1131.bmp', '0669.bmp', '0552.bmp', '1238.bmp', '1215.bmp', '2839.bmp', '0043.bmp', '1407.bmp', '3651.bmp', '1672.bmp', '3605.bmp', '2783.bmp', '3735.bmp', '3236.bmp', '2183.bmp', '4179.bmp', '1184.bmp', '3217.bmp', '1162.bmp', '3554.bmp', '1673.bmp', '1580.bmp', '0495.bmp', '1574.bmp', '0775.bmp', '3530.bmp', '1165.bmp', '4078.bmp', '0019.bmp', '1436.bmp', '2731.bmp', '3556.bmp', '2708.bmp', '3308.bmp', '3955.bmp', '0893.bmp', '4171.bmp', '2589.bmp', '2479.bmp', '2545.bmp', '1622.bmp', '2673.bmp', '1850.bmp', '1149.bmp', '2423.bmp', '2515.bmp', '3837.bmp', '0434.bmp', '0525.bmp', '3544.bmp', '3542.bmp', '4072.bmp', '1370.bmp', '3157.bmp', '1315.bmp', '0747.bmp', '2676.bmp', '1635.bmp', '2448.bmp', '1172.bmp', '0958.bmp', '0997.bmp', '0288.bmp', '3079.bmp', '4025.bmp', '0243.bmp', '3840.bmp', '3016.bmp', '1947.bmp', '2406.bmp', '1490.bmp', '1133.bmp', '1207.bmp', '0850.bmp', '0964.bmp', '1128.bmp', '2502.bmp', '1413.bmp', '1556.bmp', '1766.bmp', '2972.bmp', '3081.bmp', '4273.bmp', '3222.bmp', '3694.bmp', '2386.bmp', '3019.bmp', '1159.bmp', '0355.bmp', '0352.bmp', '0397.bmp', '3578.bmp', '0347.bmp', '3588.bmp', '0912.bmp', '0803.bmp', '3620.bmp', '0259.bmp', '0879.bmp', '2147.bmp', '1366.bmp', '0550.bmp', '3225.bmp', '3401.bmp', '0699.bmp', '1819.bmp', '0971.bmp', '2058.bmp', '3564.bmp', '0280.bmp', '3065.bmp', '2835.bmp', '1124.bmp', '0484.bmp', '0251.bmp', '2735.bmp', '3303.bmp', '1765.bmp', '0693.bmp', '3519.bmp', '0319.bmp', '1596.bmp', '2431.bmp', '1770.bmp', '1152.bmp', '3075.bmp', '2096.bmp', '3076.bmp', '3465.bmp', '2117.bmp', '3640.bmp', '2727.bmp', '2324.bmp', '3800.bmp', '0567.bmp', '2047.bmp', '2323.bmp', '1517.bmp', '3365.bmp', '1943.bmp', '1915.bmp', '3039.bmp', '0196.bmp', '0197.bmp', '2447.bmp', '2723.bmp', '1202.bmp', '2754.bmp', '1312.bmp', '3580.bmp', '2446.bmp', '0220.bmp', '0322.bmp', '4178.bmp', '0808.bmp', '0992.bmp', '1858.bmp', '1586.bmp', '1827.bmp', '3725.bmp', '0369.bmp', '1751.bmp', '3692.bmp', '1684.bmp', '0732.bmp', '1349.bmp', '0664.bmp', '2910.bmp', '1161.bmp', '3956.bmp', '2758.bmp', '1344.bmp', '3711.bmp', '1108.bmp', '2544.bmp', '2319.bmp', '2495.bmp', '4276.bmp', '3743.bmp', '4278.bmp', '0524.bmp', '3322.bmp', '0012.bmp', '2691.bmp', '2805.bmp', '0187.bmp', '3477.bmp', '2697.bmp', '0529.bmp', '2477.bmp', '0802.bmp', '0375.bmp', '2469.bmp', '3160.bmp', '3812.bmp', '0867.bmp', '2020.bmp', '2981.bmp', '4095.bmp', '3912.bmp', '4287.bmp', '0982.bmp', '2089.bmp', '0674.bmp', '4279.bmp', '2534.bmp', '1685.bmp', '2628.bmp', '3223.bmp', '3662.bmp', '2228.bmp', '2555.bmp', '3423.bmp', '1277.bmp', '2714.bmp', '0020.bmp', '1111.bmp', '0995.bmp', '2784.bmp', '3500.bmp', '3717.bmp', '0453.bmp', '3759.bmp', '2416.bmp', '0691.bmp', '3754.bmp', '4046.bmp', '1278.bmp', '1857.bmp', '3905.bmp', '2074.bmp', '2803.bmp', '2734.bmp', '1355.bmp', '1817.bmp', '1611.bmp', '3762.bmp', '3930.bmp', '2639.bmp', '3659.bmp', '1070.bmp', '2026.bmp', '4074.bmp', '2524.bmp', '3813.bmp', '1922.bmp', '3726.bmp', '3185.bmp', '1975.bmp', '0628.bmp', '1035.bmp', '2539.bmp', '0028.bmp', '2298.bmp', '4361.bmp', '3697.bmp', '1804.bmp', '0616.bmp', '0223.bmp', '1116.bmp', '3002.bmp', '3710.bmp', '3882.bmp', '1112.bmp', '2064.bmp', '3678.bmp', '0455.bmp', '0999.bmp', '2616.bmp', '2947.bmp', '1463.bmp', '3943.bmp', '2169.bmp', '2526.bmp', '1254.bmp', '1913.bmp', '3395.bmp', '2549.bmp', '4038.bmp', '0459.bmp', '4233.bmp', '3244.bmp', '2305.bmp', '1364.bmp', '3682.bmp', '2315.bmp', '1105.bmp', '4067.bmp', '2782.bmp', '1091.bmp', '2352.bmp', '3291.bmp', '0273.bmp', '0364.bmp', '1221.bmp', '3213.bmp', '1301.bmp', '2529.bmp', '2235.bmp', '1019.bmp', '0812.bmp', '4007.bmp', '2833.bmp', '4250.bmp', '2163.bmp', '0422.bmp', '1090.bmp', '2624.bmp', '3788.bmp', '4159.bmp', '1848.bmp', '0838.bmp', '2449.bmp', '3681.bmp', '1841.bmp', '4284.bmp', '2485.bmp', '1926.bmp', '1015.bmp', '0120.bmp', '0521.bmp', '1905.bmp', '1661.bmp', '1593.bmp', '2780.bmp', '2000.bmp', '4133.bmp', '0018.bmp', '2317.bmp', '1168.bmp', '3669.bmp', '2730.bmp', '3631.bmp', '2765.bmp', '0287.bmp', '1096.bmp', '3052.bmp', '2303.bmp', '1395.bmp', '0123.bmp', '3086.bmp', '3533.bmp', '0980.bmp', '3461.bmp', '3723.bmp', '3492.bmp', '2402.bmp', '2277.bmp', '3306.bmp', '3992.bmp', '2396.bmp', '2377.bmp', '3097.bmp', '4155.bmp', '2419.bmp', '1886.bmp', '0578.bmp', '0016.bmp', '1983.bmp', '1881.bmp', '4090.bmp', '2943.bmp', '2791.bmp', '3133.bmp', '1123.bmp', '3507.bmp', '3687.bmp', '3819.bmp', '2248.bmp', '0773.bmp', '2687.bmp', '3403.bmp', '2559.bmp', '3695.bmp', '1723.bmp', '2926.bmp', '2795.bmp', '3057.bmp', '2445.bmp', '2933.bmp', '1308.bmp', '0211.bmp', '3438.bmp', '0451.bmp', '0501.bmp', '1188.bmp', '3550.bmp', '3272.bmp', '3346.bmp', '0609.bmp', '0858.bmp', '0700.bmp', '0902.bmp', '3323.bmp', '0108.bmp', '1222.bmp', '1171.bmp', '2465.bmp', '0061.bmp', '3061.bmp', '0290.bmp', '3629.bmp', '0188.bmp', '1697.bmp', '3121.bmp', '2704.bmp', '2141.bmp', '3245.bmp', '1694.bmp', '0711.bmp', '4212.bmp', '0437.bmp', '4099.bmp', '0852.bmp', '2110.bmp', '2918.bmp', '3088.bmp', '3757.bmp', '1394.bmp', '0218.bmp', '0117.bmp', '0715.bmp', '0889.bmp', '1481.bmp', '1491.bmp', '0726.bmp', '2670.bmp', '3868.bmp', '3975.bmp', '0768.bmp', '3589.bmp', '0444.bmp', '0783.bmp', '1985.bmp', '1225.bmp', '2084.bmp', '1964.bmp', '3138.bmp', '3292.bmp', '2866.bmp', '3906.bmp', '3062.bmp', '2663.bmp', '4082.bmp', '0462.bmp', '3802.bmp', '0798.bmp', '0591.bmp', '2686.bmp', '0962.bmp', '1255.bmp', '1187.bmp', '1799.bmp', '0050.bmp', '1992.bmp', '0442.bmp', '3637.bmp', '2946.bmp', '1536.bmp', '3951.bmp', '1519.bmp', '0990.bmp', '0350.bmp', '4216.bmp', '0126.bmp', '3668.bmp', '3509.bmp', '1880.bmp', '3512.bmp', '0573.bmp', '3109.bmp', '1717.bmp', '4326.bmp', '3665.bmp', '4240.bmp', '3565.bmp', '3536.bmp', '3241.bmp', '2296.bmp', '1472.bmp', '2112.bmp', '4173.bmp', '3630.bmp', '2904.bmp', '0569.bmp', '1522.bmp', '3563.bmp', '0777.bmp', '2260.bmp', '0194.bmp', '1201.bmp', '2002.bmp', '3899.bmp', '1038.bmp', '2195.bmp', '1953.bmp', '3921.bmp', '4270.bmp', '1401.bmp', '1468.bmp', '2206.bmp', '3112.bmp', '3916.bmp', '2557.bmp', '3949.bmp', '3184.bmp', '0603.bmp', '3246.bmp', '4358.bmp', '4156.bmp', '3122.bmp', '0519.bmp', '3728.bmp', '0702.bmp', '1183.bmp', '1422.bmp', '1453.bmp', '1084.bmp', '3285.bmp', '1262.bmp', '0571.bmp', '0400.bmp', '2764.bmp', '0713.bmp', '0520.bmp', '2917.bmp', '1126.bmp', '4031.bmp', '0075.bmp', '3005.bmp', '2892.bmp', '3606.bmp', '3860.bmp', '1976.bmp', '0130.bmp', '3941.bmp', '3048.bmp', '2811.bmp', '2093.bmp', '4027.bmp', '1102.bmp', '2334.bmp', '1621.bmp', '1706.bmp', '3634.bmp', '0365.bmp', '3207.bmp', '2428.bmp', '0737.bmp', '1860.bmp', '1020.bmp', '2285.bmp', '2486.bmp', '4352.bmp', '4004.bmp', '0966.bmp', '4033.bmp', '2913.bmp', '1009.bmp', '3329.bmp', '3853.bmp', '4086.bmp', '2548.bmp', '2460.bmp', '0114.bmp', '1773.bmp', '0594.bmp', '0091.bmp', '2863.bmp', '0228.bmp', '3409.bmp', '2566.bmp', '2968.bmp', '2251.bmp', '1193.bmp', '4169.bmp', '1135.bmp', '4164.bmp', '1988.bmp', '1869.bmp', '0399.bmp', '1787.bmp', '4282.bmp', '0070.bmp', '2217.bmp', '0113.bmp', '3400.bmp', '0538.bmp', '1939.bmp', '1604.bmp', '2705.bmp', '3576.bmp', '3896.bmp', '2717.bmp', '1977.bmp', '4243.bmp', '1678.bmp', '2348.bmp', '1240.bmp', '2550.bmp', '1598.bmp', '1330.bmp', '3513.bmp', '3981.bmp', '2737.bmp', '3341.bmp', '4299.bmp', '0408.bmp', '3983.bmp', '3691.bmp', '0822.bmp', '1828.bmp', '0372.bmp', '3442.bmp', '0924.bmp', '2363.bmp', '0625.bmp', '0419.bmp', '3321.bmp', '4221.bmp', '0862.bmp', '4338.bmp', '0931.bmp', '0722.bmp', '2516.bmp', '2597.bmp', '3475.bmp', '1803.bmp', '1568.bmp', '0961.bmp', '0891.bmp', '2258.bmp', '4340.bmp', '3942.bmp', '3085.bmp', '3560.bmp', '1664.bmp', '2075.bmp', '2373.bmp', '4350.bmp', '3875.bmp', '0436.bmp', '0129.bmp', '0301.bmp', '1930.bmp', '2216.bmp', '0989.bmp', '2692.bmp', '2637.bmp', '2607.bmp', '4219.bmp', '0533.bmp', '1605.bmp', '4211.bmp', '0162.bmp', '4200.bmp', '1928.bmp', '0643.bmp', '1017.bmp', '2562.bmp', '1807.bmp', '1537.bmp', '1516.bmp', '3338.bmp', '1893.bmp', '0190.bmp', '2165.bmp', '3440.bmp', '3891.bmp', '0687.bmp', '4246.bmp', '3517.bmp', '2709.bmp', '3522.bmp', '0478.bmp', '0923.bmp', '2322.bmp', '2038.bmp', '4077.bmp', '1747.bmp', '3172.bmp', '3842.bmp', '2753.bmp', '1496.bmp', '0445.bmp', '0394.bmp', '0872.bmp', '2491.bmp', '2366.bmp', '3496.bmp', '2222.bmp', '4069.bmp', '0825.bmp', '0339.bmp', '1047.bmp', '0561.bmp', '0933.bmp', '1991.bmp', '0265.bmp', '2080.bmp', '2586.bmp', '0584.bmp', '2229.bmp', '2870.bmp', '1748.bmp', '1845.bmp', '3078.bmp', '2620.bmp', '2825.bmp', '1494.bmp', '2696.bmp', '3056.bmp', '0292.bmp', '0568.bmp', '2829.bmp', '3210.bmp', '1328.bmp', '4241.bmp', '2153.bmp', '2864.bmp', '2160.bmp', '2155.bmp', '2181.bmp', '3129.bmp', '1876.bmp', '0770.bmp', '3183.bmp', '0181.bmp', '0046.bmp', '1727.bmp', '3032.bmp', '3209.bmp', '1304.bmp', '1032.bmp', '0118.bmp', '1830.bmp', '0420.bmp', '3089.bmp', '1786.bmp', '3729.bmp', '2116.bmp', '3111.bmp', '2076.bmp', '3054.bmp', '4066.bmp', '2702.bmp', '1743.bmp', '2499.bmp', '2826.bmp', '3126.bmp', '1846.bmp', '3356.bmp', '0615.bmp', '0263.bmp', '2120.bmp', '2329.bmp', '1261.bmp', '0597.bmp', '2320.bmp', '1484.bmp', '4037.bmp', '2383.bmp', '0416.bmp', '3239.bmp', '1651.bmp', '0401.bmp', '0054.bmp', '1904.bmp', '0139.bmp', '3397.bmp', '3166.bmp', '1989.bmp', '1335.bmp', '3130.bmp', '1603.bmp', '2766.bmp', '1473.bmp', '2680.bmp', '0813.bmp', '3127.bmp', '2151.bmp', '2104.bmp', '3780.bmp', '1515.bmp', '0283.bmp', '1650.bmp', '2785.bmp', '0996.bmp', '0125.bmp', '1832.bmp', '2389.bmp', '1268.bmp', '1585.bmp', '0506.bmp', '0302.bmp', '3861.bmp', '0471.bmp', '0792.bmp', '2219.bmp', '1698.bmp', '2472.bmp', '4274.bmp', '0489.bmp', '3815.bmp', '1376.bmp', '2896.bmp', '0136.bmp', '3984.bmp', '1369.bmp', '4214.bmp', '3233.bmp', '4317.bmp', '3973.bmp', '4060.bmp', '3957.bmp', '0204.bmp', '3181.bmp', '2625.bmp', '2937.bmp', '2274.bmp', '0914.bmp', '2897.bmp', '3889.bmp', '3267.bmp', '2650.bmp', '1130.bmp', '3192.bmp', '0751.bmp', '2444.bmp', '0448.bmp', '3920.bmp', '3663.bmp', '3656.bmp', '3587.bmp', '1251.bmp', '3362.bmp', '3987.bmp', '2568.bmp', '2407.bmp', '2424.bmp', '1775.bmp', '1359.bmp', '2122.bmp', '1260.bmp', '3608.bmp', '0526.bmp', '0544.bmp', '1210.bmp', '0868.bmp', '3995.bmp', '4172.bmp', '3968.bmp', '2475.bmp', '2659.bmp', '2057.bmp', '1008.bmp', '1499.bmp', '4198.bmp', '1227.bmp', '0249.bmp', '1607.bmp', '1618.bmp', '2741.bmp', '3932.bmp', '2813.bmp', '2030.bmp', '3909.bmp', '1949.bmp', '0840.bmp', '0946.bmp', '2099.bmp', '2347.bmp', '4349.bmp', '1834.bmp', '0839.bmp', '2728.bmp', '0939.bmp', '2082.bmp', '2239.bmp', '1719.bmp', '4225.bmp', '1378.bmp', '0252.bmp', '3976.bmp', '3295.bmp', '3427.bmp', '2261.bmp', '0182.bmp', '1163.bmp', '2755.bmp', '1005.bmp', '2664.bmp', '0206.bmp', '2543.bmp', '3926.bmp', '3803.bmp', '3188.bmp', '4193.bmp', '0237.bmp', '1448.bmp', '0787.bmp', '2247.bmp', '3325.bmp', '0323.bmp', '4023.bmp', '1164.bmp', '1970.bmp', '3472.bmp', '0003.bmp', '0241.bmp', '0721.bmp', '2503.bmp', '1582.bmp', '0493.bmp', '3072.bmp', '4142.bmp', '0799.bmp', '3396.bmp', '3877.bmp', '3559.bmp', '2056.bmp', '1346.bmp', '3273.bmp', '3701.bmp', '3302.bmp', '2773.bmp', '1427.bmp', '0089.bmp', '3967.bmp', '2828.bmp', '2700.bmp', '0222.bmp', '1073.bmp', '2053.bmp', '1882.bmp', '0928.bmp', '2907.bmp', '2844.bmp', '2397.bmp', '0673.bmp', '0304.bmp', '0748.bmp', '2724.bmp', '2385.bmp', '3719.bmp', '3737.bmp', '1106.bmp', '4342.bmp', '4345.bmp', '2970.bmp', '3797.bmp', '3194.bmp', '2623.bmp', '2815.bmp', '1980.bmp', '3485.bmp', '2077.bmp', '2807.bmp', '0492.bmp', '2270.bmp', '1425.bmp', '3570.bmp', '2212.bmp', '3467.bmp', '3859.bmp', '0135.bmp', '3317.bmp', '3360.bmp', '3749.bmp', '0642.bmp', '3309.bmp', '3699.bmp', '1208.bmp', '1236.bmp', '2649.bmp', '1576.bmp', '3643.bmp', '2456.bmp', '1087.bmp', '0163.bmp', '1282.bmp', '2611.bmp', '1961.bmp', '1030.bmp', '1762.bmp', '0580.bmp', '1423.bmp', '1479.bmp', '2336.bmp', '0560.bmp', '0307.bmp', '2648.bmp', '0485.bmp', '4215.bmp', '3817.bmp', '3585.bmp', '1166.bmp', '0755.bmp', '0092.bmp', '3041.bmp', '2464.bmp', '3924.bmp', '1768.bmp', '2960.bmp', '2269.bmp', '4000.bmp', '0647.bmp', '0778.bmp', '2684.bmp', '2392.bmp', '0027.bmp', '2214.bmp', '4344.bmp', '1744.bmp', '4262.bmp', '2343.bmp', '4300.bmp', '2874.bmp', '3212.bmp', '1637.bmp', '0266.bmp', '1795.bmp', '3705.bmp', '1883.bmp', '2640.bmp', '2199.bmp', '2266.bmp', '3454.bmp', '1464.bmp', '1996.bmp', '1458.bmp', '1878.bmp', '3337.bmp', '1012.bmp', '1295.bmp', '3841.bmp', '4252.bmp', '0472.bmp', '1646.bmp', '0490.bmp', '1075.bmp', '0476.bmp', '3918.bmp', '1891.bmp', '4084.bmp', '2176.bmp', '0421.bmp', '3410.bmp', '0001.bmp', '2817.bmp', '3747.bmp', '0158.bmp', '3082.bmp', '0749.bmp', '3169.bmp', '0821.bmp', '2308.bmp', '3176.bmp', '3566.bmp', '3340.bmp', '2132.bmp', '3528.bmp', '3265.bmp', '3963.bmp', '0983.bmp', '2599.bmp', '2799.bmp', '3177.bmp', '0034.bmp', '3672.bmp', '1511.bmp', '3022.bmp', '1022.bmp', '1117.bmp', '3746.bmp', '1633.bmp', '2391.bmp', '2653.bmp', '1800.bmp', '3312.bmp', '4188.bmp', '2158.bmp', '1452.bmp', '2931.bmp', '1974.bmp', '3311.bmp', '3407.bmp', '1326.bmp', '0841.bmp', '0607.bmp', '4054.bmp', '1918.bmp', '0221.bmp', '0666.bmp', '2923.bmp', '0782.bmp', '3266.bmp', '0458.bmp', '0716.bmp', '1725.bmp', '1345.bmp', '2965.bmp', '3946.bmp', '1823.bmp', '0342.bmp', '1007.bmp', '1297.bmp', '0510.bmp', '3247.bmp', '2681.bmp', '2871.bmp', '2451.bmp', '4248.bmp', '1700.bmp', '2178.bmp', '4110.bmp', '3686.bmp', '2967.bmp', '0508.bmp', '3167.bmp', '0659.bmp', '2900.bmp', '0165.bmp', '1941.bmp', '3339.bmp', '0272.bmp', '2979.bmp', '0541.bmp', '3925.bmp', '3721.bmp', '4255.bmp', '4137.bmp', '3713.bmp', '2740.bmp', '2507.bmp', '3275.bmp', '2988.bmp', '4152.bmp', '1237.bmp', '1298.bmp', '4131.bmp', '0916.bmp', '2847.bmp', '2215.bmp', '2561.bmp', '3417.bmp', '0157.bmp', '3610.bmp', '3647.bmp', '2677.bmp', '3142.bmp', '4213.bmp', '0736.bmp', '1925.bmp', '1641.bmp', '3600.bmp', '2115.bmp', '3734.bmp', '3750.bmp', '0007.bmp', '0325.bmp', '1547.bmp', '0433.bmp', '1447.bmp', '0503.bmp', '3131.bmp', '1745.bmp', '0184.bmp', '1587.bmp', '3562.bmp', '0147.bmp', '3103.bmp', '3448.bmp', '3866.bmp', '1434.bmp', '2916.bmp', '2480.bmp', '1230.bmp', '1025.bmp', '3279.bmp', '1088.bmp', '1873.bmp', '2958.bmp', '1507.bmp', '2581.bmp', '2627.bmp', '1445.bmp', '2102.bmp', '0890.bmp', '2259.bmp', '3333.bmp', '0133.bmp', '3042.bmp', '2304.bmp', '0556.bmp', '3783.bmp', '3503.bmp', '0771.bmp', '2384.bmp', '2307.bmp', '0753.bmp', '3652.bmp', '0269.bmp', '0231.bmp', '3324.bmp', '1323.bmp', '1554.bmp', '1645.bmp', '3319.bmp', '0282.bmp', '3883.bmp', '4336.bmp', '2945.bmp', '0335.bmp', '3959.bmp', '2429.bmp', '3249.bmp', '1125.bmp', '4026.bmp', '2062.bmp', '3278.bmp', '3583.bmp', '1010.bmp', '0038.bmp', '3733.bmp', '2506.bmp', '3825.bmp', '1793.bmp', '1543.bmp', '1836.bmp', '3399.bmp', '0605.bmp', '3581.bmp', '1156.bmp', '4092.bmp', '1243.bmp', '3382.bmp', '2450.bmp', '1831.bmp', '4275.bmp', '2998.bmp', '3698.bmp', '1212.bmp', '2425.bmp', '0977.bmp', '2031.bmp', '1027.bmp', '0789.bmp', '1292.bmp', '1068.bmp', '1602.bmp', '2459.bmp', '3703.bmp', '2370.bmp', '0329.bmp', '1760.bmp', '1924.bmp', '1051.bmp', '3066.bmp', '1960.bmp', '2174.bmp', '2186.bmp', '1320.bmp', '4162.bmp', '3377.bmp', '0614.bmp', '1213.bmp', '1680.bmp', '0688.bmp', '2482.bmp', '1284.bmp', '1450.bmp', '3776.bmp', '2609.bmp', '1274.bmp', '1056.bmp', '3228.bmp', '0072.bmp', '1180.bmp', '1234.bmp', '1302.bmp', '3821.bmp', '1235.bmp', '1718.bmp', '0332.bmp', '0922.bmp', '0331.bmp', '3526.bmp', '3300.bmp', '1045.bmp', '1663.bmp', '1570.bmp', '1840.bmp', '0903.bmp', '1181.bmp', '1441.bmp', '3080.bmp', '3452.bmp', '0321.bmp', '1631.bmp', '3254.bmp', '2580.bmp', '3862.bmp', '2517.bmp', '0149.bmp', '1801.bmp', '0077.bmp', '3844.bmp', '3745.bmp', '0276.bmp', '2340.bmp', '3051.bmp', '2643.bmp', '1872.bmp', '0739.bmp', '4022.bmp', '0430.bmp', '3351.bmp', '4286.bmp', '4329.bmp', '0059.bmp', '2051.bmp', '0171.bmp', '2978.bmp', '1456.bmp', '1242.bmp', '0267.bmp', '2788.bmp', '3182.bmp', '0581.bmp', '1521.bmp', '4127.bmp', '1397.bmp', '1418.bmp', '3990.bmp', '1412.bmp', '1877.bmp', '4005.bmp', '2192.bmp', '0795.bmp', '0633.bmp', '4181.bmp', '2088.bmp', '1624.bmp', '1783.bmp', '3514.bmp', '4208.bmp', '3666.bmp', '4228.bmp', '2113.bmp', '4285.bmp', '1562.bmp', '0649.bmp', '3907.bmp', '0391.bmp', '2915.bmp', '3657.bmp', '3264.bmp', '3970.bmp', '2001.bmp', '3305.bmp', '3816.bmp', '3437.bmp', '1120.bmp', '2016.bmp', '0746.bmp', '3888.bmp', '0441.bmp', '0650.bmp', '4203.bmp', '1620.bmp', '3463.bmp', '1667.bmp', '1400.bmp', '3293.bmp', '3880.bmp', '1356.bmp', '3593.bmp', '2490.bmp', '2145.bmp', '1209.bmp', '4291.bmp', '1089.bmp', '2949.bmp', '3148.bmp', '0757.bmp', '3211.bmp', '3890.bmp', '2745.bmp', '2679.bmp', '0819.bmp', '3268.bmp', '0002.bmp', '1599.bmp', '1559.bmp', '0776.bmp', '2991.bmp', '1081.bmp', '3405.bmp', '2719.bmp', '1548.bmp', '0785.bmp', '2049.bmp', '2331.bmp', '2908.bmp', '0720.bmp', '3511.bmp', '0861.bmp', '3958.bmp', '0033.bmp', '2375.bmp', '1354.bmp', '0101.bmp', '1838.bmp', '0435.bmp', '0112.bmp', '2100.bmp', '1160.bmp', '3529.bmp', '1540.bmp', '0279.bmp', '3644.bmp', '1231.bmp', '3108.bmp', '2814.bmp', '0479.bmp', '3445.bmp', '3270.bmp', '0121.bmp', '0047.bmp', '0553.bmp', '1410.bmp', '4247.bmp', '3435.bmp', '0892.bmp', '2767.bmp', '2744.bmp', '1940.bmp', '1286.bmp', '4244.bmp', '0579.bmp', '1900.bmp', '1909.bmp', '3190.bmp', '3428.bmp', '1057.bmp', '3893.bmp', '1552.bmp', '4298.bmp', '0723.bmp', '0918.bmp', '3996.bmp', '3599.bmp', '0217.bmp', '0629.bmp', '3326.bmp', '2280.bmp', '2525.bmp', '2059.bmp', '0344.bmp', '4091.bmp', '0824.bmp', '4058.bmp', '1937.bmp', '1714.bmp', '1396.bmp', '1449.bmp', '0168.bmp', '3197.bmp', '3035.bmp', '1129.bmp', '1588.bmp', '4136.bmp', '2421.bmp', '0110.bmp', '1246.bmp', '1932.bmp', '1406.bmp', '4125.bmp', '3451.bmp', '2608.bmp', '0297.bmp', '0774.bmp', '3100.bmp', '3443.bmp', '0076.bmp', '2126.bmp', '3276.bmp', '3857.bmp', '3235.bmp', '0730.bmp', '0938.bmp', '2496.bmp', '4293.bmp', '1871.bmp', '1545.bmp', '3113.bmp', '1894.bmp', '0406.bmp', '1809.bmp', '0461.bmp', '2191.bmp', '2688.bmp', '3935.bmp', '3043.bmp', '0404.bmp', '2523.bmp', '3471.bmp', '3670.bmp', '4168.bmp', '1321.bmp', '2678.bmp', '1054.bmp', '1865.bmp', '0363.bmp', '3741.bmp', '3144.bmp', '1119.bmp', '4223.bmp', '3584.bmp', '1614.bmp', '1789.bmp', '3259.bmp', '0830.bmp', '0765.bmp', '0583.bmp', '4327.bmp', '0137.bmp', '3939.bmp', '1749.bmp', '3879.bmp', '4051.bmp', '3355.bmp', '3927.bmp', '2763.bmp', '3010.bmp', '2852.bmp', '0303.bmp', '1679.bmp', '1403.bmp', '2127.bmp', '4306.bmp', '1065.bmp', '0742.bmp', '3481.bmp', '1064.bmp', '0555.bmp', '0881.bmp', '2312.bmp', '3474.bmp', '0450.bmp', '0233.bmp', '3623.bmp', '0733.bmp', '4296.bmp', '0604.bmp', '1510.bmp', '2140.bmp', '0511.bmp', '0727.bmp', '2418.bmp', '2638.bmp', '3411.bmp', '1433.bmp', '2339.bmp', '0470.bmp', '1796.bmp', '0379.bmp', '1014.bmp', '1936.bmp', '2964.bmp', '1055.bmp', '1676.bmp', '2335.bmp', '2547.bmp', '0145.bmp', '3972.bmp', '1233.bmp', '1518.bmp', '2940.bmp', '1132.bmp', '3476.bmp', '4356.bmp', '3832.bmp', '1730.bmp', '3795.bmp', '3237.bmp', '3087.bmp', '0621.bmp', '3843.bmp', '1069.bmp', '0710.bmp', '0941.bmp', '1644.bmp', '1438.bmp', '0431.bmp', '4183.bmp', '1272.bmp', '2316.bmp', '2498.bmp', '2098.bmp', '3506.bmp', '0294.bmp', '2872.bmp', '0534.bmp', '1178.bmp', '2593.bmp', '3516.bmp', '1339.bmp', '4360.bmp', '3618.bmp', '0877.bmp', '1461.bmp', '4229.bmp', '0270.bmp', '1341.bmp', '1908.bmp', '1110.bmp', '3696.bmp', '3386.bmp', '0105.bmp', '1978.bmp', '2371.bmp', '4106.bmp', '1779.bmp', '1956.bmp', '1532.bmp', '4138.bmp', '2703.bmp', '1963.bmp', '3170.bmp', '0807.bmp', '0083.bmp', '1523.bmp', '0909.bmp', '3483.bmp', '0875.bmp', '1103.bmp', '4070.bmp', '2565.bmp', '2556.bmp', '1595.bmp', '2253.bmp', '1440.bmp', '2675.bmp', '0934.bmp', '0351.bmp', '0314.bmp', '1837.bmp', '2240.bmp', '0612.bmp', '0570.bmp', '1006.bmp', '3664.bmp', '3354.bmp', '2571.bmp', '3187.bmp', '0814.bmp', '3011.bmp', '1993.bmp', '3786.bmp', '3385.bmp', '2226.bmp', '0545.bmp', '2685.bmp', '4257.bmp', '3441.bmp', '1979.bmp', '3274.bmp', '0968.bmp', '1050.bmp', '0837.bmp', '1340.bmp', '2185.bmp', '3136.bmp', '2748.bmp', '0380.bmp', '1995.bmp', '4053.bmp', '1776.bmp', '2111.bmp', '3784.bmp', '2230.bmp', '3137.bmp', '3343.bmp', '2011.bmp', '3290.bmp', '2382.bmp', '1318.bmp', '0239.bmp', '3596.bmp', '1216.bmp', '0888.bmp', '1792.bmp', '0423.bmp', '3549.bmp', '1460.bmp', '4197.bmp', '4052.bmp', '3736.bmp', '2357.bmp', '4035.bmp', '1256.bmp', '2432.bmp', '0056.bmp', '3193.bmp', '1100.bmp', '1428.bmp', '1875.bmp', '0589.bmp', '1451.bmp', '3110.bmp', '3994.bmp', '2393.bmp', '4312.bmp', '3380.bmp', '3794.bmp', '3046.bmp', '0804.bmp', '0826.bmp', '4073.bmp', '2577.bmp', '2321.bmp', '0683.bmp', '2956.bmp', '4010.bmp', '1874.bmp', '2171.bmp', '2365.bmp', '1895.bmp', '1695.bmp', '1767.bmp', '2434.bmp', '4056.bmp', '2537.bmp', '0063.bmp', '2993.bmp', '0439.bmp', '2411.bmp', '2409.bmp', '3449.bmp', '1270.bmp', '0624.bmp', '2567.bmp', '0360.bmp', '2128.bmp', '3633.bmp', '0425.bmp', '1241.bmp', '3545.bmp', '2338.bmp', '4330.bmp', '2869.bmp', '0318.bmp', '2232.bmp', '3548.bmp', '2149.bmp', '1944.bmp', '0899.bmp', '2066.bmp', '1430.bmp', '3508.bmp', '0797.bmp', '4313.bmp', '1757.bmp', '0499.bmp', '3765.bmp', '1144.bmp', '1920.bmp', '0254.bmp', '0859.bmp', '3314.bmp', '3804.bmp', '2018.bmp', '1669.bmp', '0655.bmp', '0639.bmp', '2662.bmp', '3349.bmp', '0017.bmp', '4140.bmp', '3649.bmp', '3724.bmp', '3049.bmp', '4253.bmp', '1638.bmp', '1917.bmp', '2105.bmp', '2837.bmp', '2661.bmp', '1512.bmp', '3742.bmp', '0660.bmp', '0102.bmp', '2570.bmp', '0487.bmp', '0166.bmp', '3636.bmp', '1061.bmp', '0359.bmp', '0306.bmp', '2478.bmp', '4167.bmp', '0735.bmp', '3646.bmp', '2014.bmp', '3073.bmp', '4337.bmp', '0333.bmp', '3038.bmp', '0904.bmp', '4100.bmp', '1097.bmp', '3673.bmp', '2041.bmp', '0176.bmp', '1104.bmp', '1531.bmp', '1205.bmp', '1362.bmp', '2029.bmp', '0512.bmp', '3869.bmp', '2040.bmp', '3036.bmp', '0630.bmp', '1578.bmp', '4146.bmp', '4295.bmp', '3986.bmp', '1688.bmp', '1280.bmp', '0354.bmp', '2427.bmp', '3835.bmp', '3277.bmp', '0128.bmp', '4064.bmp', '0480.bmp', '2044.bmp', '3818.bmp', '2651.bmp', '3931.bmp', '2994.bmp', '1404.bmp', '3850.bmp', '0685.bmp', '2912.bmp', '1390.bmp', '2812.bmp', '2367.bmp', '3969.bmp', '0991.bmp', '2073.bmp', '1391.bmp', '2901.bmp', '3370.bmp', '0388.bmp', '1847.bmp', '2804.bmp', '0207.bmp', '2718.bmp', '1969.bmp', '0600.bmp', '3281.bmp', '3074.bmp', '2184.bmp', '0936.bmp', '1885.bmp', '4079.bmp', '3978.bmp', '3024.bmp', '0585.bmp', '2238.bmp', '1958.bmp', '0994.bmp', '0528.bmp', '0698.bmp', '0690.bmp', '2282.bmp', '0384.bmp', '0843.bmp', '4102.bmp', '4217.bmp', '3371.bmp', '3849.bmp', '0278.bmp', '0970.bmp', '2313.bmp', '1668.bmp', '4242.bmp', '2107.bmp', '2070.bmp', '1761.bmp', '3658.bmp', '1329.bmp', '2436.bmp', '2895.bmp', '4261.bmp', '1601.bmp', '0262.bmp', '1271.bmp', '0704.bmp', '1416.bmp', '4189.bmp', '3007.bmp', '2578.bmp', '1350.bmp', '2286.bmp', '2394.bmp', '3677.bmp', '3904.bmp', '0500.bmp', '3083.bmp', '1923.bmp', '2500.bmp', '2951.bmp', '0565.bmp', '2595.bmp', '2720.bmp', '2003.bmp', '2569.bmp', '3030.bmp', '0057.bmp', '3412.bmp', '0353.bmp', '4314.bmp', '4346.bmp', '1921.bmp', '1780.bmp', '2733.bmp', '0679.bmp', '2164.bmp', '0449.bmp', '0937.bmp', '1687.bmp', '2776.bmp', '1504.bmp', '3964.bmp', '0734.bmp', '0447.bmp', '2655.bmp', '3755.bmp', '0632.bmp', '0940.bmp', '3787.bmp', '0296.bmp', '2770.bmp', '1815.bmp', '4113.bmp', '3614.bmp', '1781.bmp', '1033.bmp', '4207.bmp', '2925.bmp', '3546.bmp', '2358.bmp', '2706.bmp', '2043.bmp', '0386.bmp', '2927.bmp', '2652.bmp', '1994.bmp', '0358.bmp', '3884.bmp', '1140.bmp', '1710.bmp', '1353.bmp', '3846.bmp', '3836.bmp', '1267.bmp', '3915.bmp', '1506.bmp', '1405.bmp', '1137.bmp', '0835.bmp', '4297.bmp', '1197.bmp', '3173.bmp', '4161.bmp', '2381.bmp', '2010.bmp', '3328.bmp', '0473.bmp', '1266.bmp', '1722.bmp', '1040.bmp', '3003.bmp', '0876.bmp', '3431.bmp', '4176.bmp', '1590.bmp', '0313.bmp', '4153.bmp', '0658.bmp', '3301.bmp', '3962.bmp', '1541.bmp', '0161.bmp', '1147.bmp', '3077.bmp', '2572.bmp', '2824.bmp', '3679.bmp', '4071.bmp', '1334.bmp', '1707.bmp', '3031.bmp', '0236.bmp', '1352.bmp', '4165.bmp', '1469.bmp', '1662.bmp', '4121.bmp', '2227.bmp', '2246.bmp', '0566.bmp', '3785.bmp', '0957.bmp', '0200.bmp', '0381.bmp', '3582.bmp', '4120.bmp', '1072.bmp', '0586.bmp', '3498.bmp', '1409.bmp', '3201.bmp', '0245.bmp', '2504.bmp', '2996.bmp', '1466.bmp', '1415.bmp', '1306.bmp', '1386.bmp', '0103.bmp', '0227.bmp', '2899.bmp', '2660.bmp', '3881.bmp', '1296.bmp', '2284.bmp', '3886.bmp', '2656.bmp', '0155.bmp', '4151.bmp', '4042.bmp', '2254.bmp', '3867.bmp', '4129.bmp', '4259.bmp', '1327.bmp', '3798.bmp', '1219.bmp', '4339.bmp', '2513.bmp', '2600.bmp', '0745.bmp', '1373.bmp', '1565.bmp', '4143.bmp', '1681.bmp', '2612.bmp', '1382.bmp', '3000.bmp', '2256.bmp', '1211.bmp', '1028.bmp', '3482.bmp', '0438.bmp', '0440.bmp', '4175.bmp', '3460.bmp', '2889.bmp', '3961.bmp', '1916.bmp', '2952.bmp', '0943.bmp', '2012.bmp', '1142.bmp', '3887.bmp', '0053.bmp', '1973.bmp', '4334.bmp', '3119.bmp', '1273.bmp', '1806.bmp', '1154.bmp', '3531.bmp', '1755.bmp', '4158.bmp', '1896.bmp', '0264.bmp', '3712.bmp', '4011.bmp', '3999.bmp', '2376.bmp', '3704.bmp', '4166.bmp', '2231.bmp', '1634.bmp', '0086.bmp', '0596.bmp', '0866.bmp', '0032.bmp', '4362.bmp', '2856.bmp', '3676.bmp', '3165.bmp', '0952.bmp', '3948.bmp', '0725.bmp', '2017.bmp', '1524.bmp', '4096.bmp', '4201.bmp', '3839.bmp', '3070.bmp', '3227.bmp', '0247.bmp', '2701.bmp', '0371.bmp', '3953.bmp', '3626.bmp', '0865.bmp', '3296.bmp', '2309.bmp', '3982.bmp', '0680.bmp', '3928.bmp', '1497.bmp', '2848.bmp', '2760.bmp', '4118.bmp', '2221.bmp', '0055.bmp', '1654.bmp', '1771.bmp', '1467.bmp', '4249.bmp', '2362.bmp', '0443.bmp', '3361.bmp', '2054.bmp', '2885.bmp', '2854.bmp', '0601.bmp', '3771.bmp', '2134.bmp', '3740.bmp', '3248.bmp', '2119.bmp', '0709.bmp', '2415.bmp', '3388.bmp', '1421.bmp', '2172.bmp', '3283.bmp', '3413.bmp', '1293.bmp', '2747.bmp', '1474.bmp', '3501.bmp', '0857.bmp', '2060.bmp', '3547.bmp', '0348.bmp', '3114.bmp', '4325.bmp', '1592.bmp', '2792.bmp', '4141.bmp', '1594.bmp', '2039.bmp', '3060.bmp', '2182.bmp', '0073.bmp', '1446.bmp', '2546.bmp', '3069.bmp', '2518.bmp', '1788.bmp', '3436.bmp', '0953.bmp', '4192.bmp', '2161.bmp', '0152.bmp', '1861.bmp', '4292.bmp', '1546.bmp', '3234.bmp', '3453.bmp', '3021.bmp', '2532.bmp', '3874.bmp', '4081.bmp', '1429.bmp', '2426.bmp', '1630.bmp', '1455.bmp', '0815.bmp', '1879.bmp', '1333.bmp', '0491.bmp', '2372.bmp', '1833.bmp', '3680.bmp', '0468.bmp', '0572.bmp', '0965.bmp', '1677.bmp', '3855.bmp', '1324.bmp', '3140.bmp', '3330.bmp', '2779.bmp', '1906.bmp', '2027.bmp', '4231.bmp', '0024.bmp', '3252.bmp', '2004.bmp', '1808.bmp', '1931.bmp', '0205.bmp', '2255.bmp', '2243.bmp', '1735.bmp', '1139.bmp', '4105.bmp', '3336.bmp', '0060.bmp', '3091.bmp', '1821.bmp', '2354.bmp', '2887.bmp', '3876.bmp', '0000.bmp', '3661.bmp', '4309.bmp', '3297.bmp', '0142.bmp', '0772.bmp', '2142.bmp', '1927.bmp', '1824.bmp', '0986.bmp', '4227.bmp', '0141.bmp', '1179.bmp', '4145.bmp', '3779.bmp', '2318.bmp', '3342.bmp', '0648.bmp', '3261.bmp', '0414.bmp', '1173.bmp', '3394.bmp', '2694.bmp', '0920.bmp', '3864.bmp', '0093.bmp', '0575.bmp', '2647.bmp', '3965.bmp', '0452.bmp', '0853.bmp', '1984.bmp', '0109.bmp', '1728.bmp', '0884.bmp', '1169.bmp', '2198.bmp', '2443.bmp', '0908.bmp', '2433.bmp', '0122.bmp', '3894.bmp', '1151.bmp', '3660.bmp', '2842.bmp', '3446.bmp', '3505.bmp', '1283.bmp', '3532.bmp', '3107.bmp', '2820.bmp', '1551.bmp', '1214.bmp', '2310.bmp', '1398.bmp', '1437.bmp', '0169.bmp', '1950.bmp', '3521.bmp', '1802.bmp', '0175.bmp', '3707.bmp', '2989.bmp', '2294.bmp', '0831.bmp', '1945.bmp', '3006.bmp', '0111.bmp', '1232.bmp', '2328.bmp', '0045.bmp', '3200.bmp', '2536.bmp', '4180.bmp', '1036.bmp', '2974.bmp', '1887.bmp', '1118.bmp', '0653.bmp', '1569.bmp', '2540.bmp', '2668.bmp', '0062.bmp', '2579.bmp', '0987.bmp', '0456.bmp', '0225.bmp', '0911.bmp', '0759.bmp', '2857.bmp', '0595.bmp', '0917.bmp', '3752.bmp', '3823.bmp', '0547.bmp', '2404.bmp', '3464.bmp', '1759.bmp', '2036.bmp', '2353.bmp', '3778.bmp', '4029.bmp', '3502.bmp', '2072.bmp', '1174.bmp', '2587.bmp', '3515.bmp', '2390.bmp', '2179.bmp', '1835.bmp', '2410.bmp', '1092.bmp', '0719.bmp', '3348.bmp', '0186.bmp', '1343.bmp', '2262.bmp', '2224.bmp', '3898.bmp', '2009.bmp', '2797.bmp', '2157.bmp', '2293.bmp', '2762.bmp', '0606.bmp', '0760.bmp', '3616.bmp', '2898.bmp', '1371.bmp', '2976.bmp', '0293.bmp', '1459.bmp', '3004.bmp', '3014.bmp', '4115.bmp', '1153.bmp', '0712.bmp', '1414.bmp', '3952.bmp', '2997.bmp', '3439.bmp', '2935.bmp', '3327.bmp', '1175.bmp', '1655.bmp', '1465.bmp', '2245.bmp', '1763.bmp', '1689.bmp', '3147.bmp', '1954.bmp', '4013.bmp', '1195.bmp', '4124.bmp', '4237.bmp', '0791.bmp', '4323.bmp', '1257.bmp', '2883.bmp', '2613.bmp', '2802.bmp', '2667.bmp', '0326.bmp', '1384.bmp', '1573.bmp', '3534.bmp', '2635.bmp', '1658.bmp', '0475.bmp', '0530.bmp', '3457.bmp', '1572.bmp', '3012.bmp', '1424.bmp', '0809.bmp', '3727.bmp', '1736.bmp', '0088.bmp', '2078.bmp', '2045.bmp', '2148.bmp', '1844.bmp', '1674.bmp', '3716.bmp', '0146.bmp', '3331.bmp', '3286.bmp', '3989.bmp', '3863.bmp', '1535.bmp', '3469.bmp', '1062.bmp', '0343.bmp', '3708.bmp', '2086.bmp', '1528.bmp', '4036.bmp', '3134.bmp', '2233.bmp', '3179.bmp', '1113.bmp', '0932.bmp', '3220.bmp', '0256.bmp', '2605.bmp', '2873.bmp', '4245.bmp', '1505.bmp', '1426.bmp', '3671.bmp', '1167.bmp', '1348.bmp', '3379.bmp', '2881.bmp', '3617.bmp', '1639.bmp', '1487.bmp', '2461.bmp', '3447.bmp', '0950.bmp', '2732.bmp', '0195.bmp', '4080.bmp', '1338.bmp', '1046.bmp', '2954.bmp', '1670.bmp', '0818.bmp', '2069.bmp', '2713.bmp', '4305.bmp', '2013.bmp', '2632.bmp', '0549.bmp', '3415.bmp', '2314.bmp', '2806.bmp', '2644.bmp', '0235.bmp', '3420.bmp', '0095.bmp', '2834.bmp', '1851.bmp', '3938.bmp', '1571.bmp', '0098.bmp', '0261.bmp', '3231.bmp', '3638.bmp', '3603.bmp', '0376.bmp', '2257.bmp', '0370.bmp', '1127.bmp', '4310.bmp', '3196.bmp', '4224.bmp', '0172.bmp', '2325.bmp', '1758.bmp', '0993.bmp', '1581.bmp', '3393.bmp', '0617.bmp', '1797.bmp', '2276.bmp', '2749.bmp', '1652.bmp', '1557.bmp', '2969.bmp', '0094.bmp', '0213.bmp', '2601.bmp', '3830.bmp', '2585.bmp', '2170.bmp', '2953.bmp', '3318.bmp', '2742.bmp', '4130.bmp', '2738.bmp', '0668.bmp', '0505.bmp', '3096.bmp', '2337.bmp', '0023.bmp', '1229.bmp', '1074.bmp', '1864.bmp', '2849.bmp', '0291.bmp', '1784.bmp', '3714.bmp', '4281.bmp', '1206.bmp', '3895.bmp', '1374.bmp', '1493.bmp', '3792.bmp', '0466.bmp', '0078.bmp', '0611.bmp', '1721.bmp', '4154.bmp', '2430.bmp', '0942.bmp', '2851.bmp', '0682.bmp', '0744.bmp', '2194.bmp', '1303.bmp', '0645.bmp', '0385.bmp', '3602.bmp', '0477.bmp', '4265.bmp', '4290.bmp', '1289.bmp', '1264.bmp', '0883.bmp', '4047.bmp', '1946.bmp', '1311.bmp', '2992.bmp', '2123.bmp', '1854.bmp', '0159.bmp', '1071.bmp', '2028.bmp', '3639.bmp', '2355.bmp', '0257.bmp', '2356.bmp', '3050.bmp', '1911.bmp', '2101.bmp', '0829.bmp', '2205.bmp', '2975.bmp', '1653.bmp', '0469.bmp', '1955.bmp', '3718.bmp', '0039.bmp', '2387.bmp', '1782.bmp', '2209.bmp', '2982.bmp', '0878.bmp', '0460.bmp', '0281.bmp', '1258.bmp', '2880.bmp', '2808.bmp', '2203.bmp', '2554.bmp', '3199.bmp', '4209.bmp', '3044.bmp', '0631.bmp', '2333.bmp', '2052.bmp', '2476.bmp', '3768.bmp', '0724.bmp', '0590.bmp', '3017.bmp', '3567.bmp', '0426.bmp', '2273.bmp', '1533.bmp', '4094.bmp', '4322.bmp', '2252.bmp', '3353.bmp', '2388.bmp', '1935.bmp', '2876.bmp', '1741.bmp', '0959.bmp', '2642.bmp', '2175.bmp', '1902.bmp', '3873.bmp', '2520.bmp', '0762.bmp', '4112.bmp', '2884.bmp', '0665.bmp', '2875.bmp', '2497.bmp', '0907.bmp', '3791.bmp', '1686.bmp', '1287.bmp', '0373.bmp', '0758.bmp', '1148.bmp', '3226.bmp', '3347.bmp', '4128.bmp', '3937.bmp', '4149.bmp', '0366.bmp', '1769.bmp', '1043.bmp', '0427.bmp', '1866.bmp', '3808.bmp', '0004.bmp', '1530.bmp', '0481.bmp', '2666.bmp', '1182.bmp', '3152.bmp', '0497.bmp', '2193.bmp', '3146.bmp', '1408.bmp', '1477.bmp', '1647.bmp', '2083.bmp', '0882.bmp', '4150.bmp', '0079.bmp', '3458.bmp', '1753.bmp', '2631.bmp', '2250.bmp', '4230.bmp', '0951.bmp', '2836.bmp', '1026.bmp', '0138.bmp', '2512.bmp', '0192.bmp', '1742.bmp', '2180.bmp', '0156.bmp', '3040.bmp', '2990.bmp', '3851.bmp', '0025.bmp', '1170.bmp', '4014.bmp', '4030.bmp', '0602.bmp', '0413.bmp', '0870.bmp', '3635.bmp', '0894.bmp', '2891.bmp', '3807.bmp', '0173.bmp', '1814.bmp', '0244.bmp', '2906.bmp', '3901.bmp', '2097.bmp', '3206.bmp', '3203.bmp', '0015.bmp', '1380.bmp', '0317.bmp', '1358.bmp', '1826.bmp', '0895.bmp', '0718.bmp', '3045.bmp', '0695.bmp', '3810.bmp', '2458.bmp', '3240.bmp', '0672.bmp', '0731.bmp', '2939.bmp', '3025.bmp', '0979.bmp', '3684.bmp', '3642.bmp', '0963.bmp', '4191.bmp', '0955.bmp', '3923.bmp', '3551.bmp', '2360.bmp', '3425.bmp', '3738.bmp', '2468.bmp', '0377.bmp', '2399.bmp', '0551.bmp', '2816.bmp', '3558.bmp', '1625.bmp', '3299.bmp', '2091.bmp', '4202.bmp', '3856.bmp', '0646.bmp', '3929.bmp', '3833.bmp', '3590.bmp', '2606.bmp', '1310.bmp', '2042.bmp', '2583.bmp', '2501.bmp', '3621.bmp', '0330.bmp', '4009.bmp', '0539.bmp', '1336.bmp', '0900.bmp', '2840.bmp', '1897.bmp', '2311.bmp', '0312.bmp', '3143.bmp', '3748.bmp', '2823.bmp', '3221.bmp', '0087.bmp', '0013.bmp', '1777.bmp', '1003.bmp', '0559.bmp', '1566.bmp', '1435.bmp', '3232.bmp', '1244.bmp', '4018.bmp', '2618.bmp', '0834.bmp', '0828.bmp', '4059.bmp', '2603.bmp', '3158.bmp', '0246.bmp', '0255.bmp', '1314.bmp', '3761.bmp', '1094.bmp', '0618.bmp', '1457.bmp', '0014.bmp', '3594.bmp', '3524.bmp', '0945.bmp', '3586.bmp', '1363.bmp', '2695.bmp', '3468.bmp', '3774.bmp', '4235.bmp', '3263.bmp', '1720.bmp', '1368.bmp', '1933.bmp', '4034.bmp', '3250.bmp', '0927.bmp', '2527.bmp', '2361.bmp', '3106.bmp', '1829.bmp', '1059.bmp', '3577.bmp', '2590.bmp', '1910.bmp', '2279.bmp', '1853.bmp', '1052.bmp', '0972.bmp', '1431.bmp', '2290.bmp', '2143.bmp', '1948.bmp', '2538.bmp', '0082.bmp', '2168.bmp', '1357.bmp', '2166.bmp', '2560.bmp', '2330.bmp', '1107.bmp', '2846.bmp', '2015.bmp', '2487.bmp', '2781.bmp', '2048.bmp', '2332.bmp', '2955.bmp', '0090.bmp', '1657.bmp', '0921.bmp', '3251.bmp', '0214.bmp', '0788.bmp', '0926.bmp', '4019.bmp', '2862.bmp', '3775.bmp', '3667.bmp', '2006.bmp', '3540.bmp', '4032.bmp', '3422.bmp', '3591.bmp', '3520.bmp', '3739.bmp', '1316.bmp', '2021.bmp', '3908.bmp', '1143.bmp', '0823.bmp', '3470.bmp', '2535.bmp', '2401.bmp', '4085.bmp', '1099.bmp', '1863.bmp', '3838.bmp', '3313.bmp', '4017.bmp', '2223.bmp', '1379.bmp', '4185.bmp', '1217.bmp', '2986.bmp', '2081.bmp', '3168.bmp', '2962.bmp', '0827.bmp', '3071.bmp', '2218.bmp', '4097.bmp', '0009.bmp', '4107.bmp', '1889.bmp', '0805.bmp', '1591.bmp', '3352.bmp', '1692.bmp', '3592.bmp', '1726.bmp', '0496.bmp', '3253.bmp', '0036.bmp', '1351.bmp', '2131.bmp', '1731.bmp', '0341.bmp', '1693.bmp', '0486.bmp', '4045.bmp', '4003.bmp', '0336.bmp', '4040.bmp', '4111.bmp', '2541.bmp', '0311.bmp', '2437.bmp', '2893.bmp', '1790.bmp', '4061.bmp', '0766.bmp', '2721.bmp', '1606.bmp', '1852.bmp', '3796.bmp', '1708.bmp', '4283.bmp', '1080.bmp', '3161.bmp', '3809.bmp', '0985.bmp', '1095.bmp', '1501.bmp', '1191.bmp', '3367.bmp', '2435.bmp', '1539.bmp', '4050.bmp', '3023.bmp', '1888.bmp', '2665.bmp', '3693.bmp', '2877.bmp', '4174.bmp', '3198.bmp', '4068.bmp', '3654.bmp', '2743.bmp', '4114.bmp', '1066.bmp', '0178.bmp', '0661.bmp', '3751.bmp', '2291.bmp', '3363.bmp', '3950.bmp', '4232.bmp', '2867.bmp', '2845.bmp', '1810.bmp', '2299.bmp', '4347.bmp', '2118.bmp', '0402.bmp', '0919.bmp', '2236.bmp', '2264.bmp', '0153.bmp', '4089.bmp', '0504.bmp', '1016.bmp', '1305.bmp', '3997.bmp', '2395.bmp', '1002.bmp', '3611.bmp', '2938.bmp', '2552.bmp', '0338.bmp', '2929.bmp', '4348.bmp', '4157.bmp', '2553.bmp', '2987.bmp', '2591.bmp', '3822.bmp', '0209.bmp', '1998.bmp', '1538.bmp', '1319.bmp', '4187.bmp', '3571.bmp', '1589.bmp', '0085.bmp', '0124.bmp', '2973.bmp', '3625.bmp', '1584.bmp', '0948.bmp', '0191.bmp', '0040.bmp', '3497.bmp', '4328.bmp', '0097.bmp', '0954.bmp', '0708.bmp', '3359.bmp', '3553.bmp', '1253.bmp', '0860.bmp', '0150.bmp', '2689.bmp', '4126.bmp', '0929.bmp', '1842.bmp', '2508.bmp', '1138.bmp', '1079.bmp', '2438.bmp', '0011.bmp', '3001.bmp', '3128.bmp', '0361.bmp', '0185.bmp', '1643.bmp', '0346.bmp', '1713.bmp', '0216.bmp', '3433.bmp', '3015.bmp', '0741.bmp', '2787.bmp', '0396.bmp', '0174.bmp', '1715.bmp', '1136.bmp', '3125.bmp', '3763.bmp', '1772.bmp', '0238.bmp', '2957.bmp', '3732.bmp', '3414.bmp', '2542.bmp', '3455.bmp', '2159.bmp', '2037.bmp', '4256.bmp', '1752.bmp', '2865.bmp', '0140.bmp', '1560.bmp', '3332.bmp', '0761.bmp', '3848.bmp', '1629.bmp', '1200.bmp', '0068.bmp', '2646.bmp', '3799.bmp', '0905.bmp', '1444.bmp', '3490.bmp', '3364.bmp', '0240.bmp', '0587.bmp', '4065.bmp', '3369.bmp', '3191.bmp', '2752.bmp', '1636.bmp', '3067.bmp', '0640.bmp', '0800.bmp', '0810.bmp', '2225.bmp', '1534.bmp', '3480.bmp', '2034.bmp', '1951.bmp', '2921.bmp', '3095.bmp', '1659.bmp', '2563.bmp', '4177.bmp', '2729.bmp', '2751.bmp', '2602.bmp', '1704.bmp', '0424.bmp', '4205.bmp', '2936.bmp', '3789.bmp', '2301.bmp', '2067.bmp', '0854.bmp', '3456.bmp', '4044.bmp', '1245.bmp', '3298.bmp', '2879.bmp', '2615.bmp', '3059.bmp', '0170.bmp', '1575.bmp', '1997.bmp', '1619.bmp', '4316.bmp', '0973.bmp', '2558.bmp', '2511.bmp', '3604.bmp', '0226.bmp', '2576.bmp', '1508.bmp', '0031.bmp', '0613.bmp', '3424.bmp', '4196.bmp', '1049.bmp', '0483.bmp', '3773.bmp', '3641.bmp', '3444.bmp', '4108.bmp', '1141.bmp', '1377.bmp', '0106.bmp', '0049.bmp', '3645.bmp', '0984.bmp', '0316.bmp', '1514.bmp', '0328.bmp', '1048.bmp', '1794.bmp', '2278.bmp', '0234.bmp', '2919.bmp', '4135.bmp', '0844.bmp', '2220.bmp', '0516.bmp', '1732.bmp', '1360.bmp', '3180.bmp', '1023.bmp', '1907.bmp', '4320.bmp', '3627.bmp', '0382.bmp', '0167.bmp', '1509.bmp', '3090.bmp', '4267.bmp']\n"
     ]
    }
   ],
   "source": [
    "for root, _, path in os.walk('AugTrain/'):\n",
    "    print(path)"
   ]
  },
  {
   "cell_type": "code",
   "execution_count": 119,
   "metadata": {},
   "outputs": [],
   "source": [
    "import cv2"
   ]
  },
  {
   "cell_type": "code",
   "execution_count": 121,
   "metadata": {},
   "outputs": [],
   "source": [
    "a = cv2.imread('overfit/butterfly_GT.bmp', 0)"
   ]
  },
  {
   "cell_type": "code",
   "execution_count": 123,
   "metadata": {},
   "outputs": [
    {
     "data": {
      "text/plain": [
       "True"
      ]
     },
     "execution_count": 123,
     "metadata": {},
     "output_type": "execute_result"
    }
   ],
   "source": [
    "cv2.imwrite('temp.png', a/2)"
   ]
  },
  {
   "cell_type": "code",
   "execution_count": 124,
   "metadata": {},
   "outputs": [],
   "source": [
    "b = cv2.imread('temp.png', 0)"
   ]
  },
  {
   "cell_type": "code",
   "execution_count": 125,
   "metadata": {},
   "outputs": [
    {
     "data": {
      "text/plain": [
       "array([[16, 23, 34, ..., 32, 30, 30],\n",
       "       [14, 16, 20, ..., 30, 31, 30],\n",
       "       [33, 18, 14, ..., 31, 32, 29],\n",
       "       ..., \n",
       "       [24, 24, 26, ..., 56, 57, 56],\n",
       "       [23, 24, 33, ..., 58, 56, 57],\n",
       "       [24, 27, 32, ..., 58, 56, 56]], dtype=uint8)"
      ]
     },
     "execution_count": 125,
     "metadata": {},
     "output_type": "execute_result"
    }
   ],
   "source": [
    "b"
   ]
  },
  {
   "cell_type": "code",
   "execution_count": 126,
   "metadata": {},
   "outputs": [
    {
     "data": {
      "text/plain": [
       "array([[ 33,  46,  69, ...,  64,  61,  61],\n",
       "       [ 27,  33,  41, ...,  61,  62,  61],\n",
       "       [ 66,  36,  29, ...,  62,  64,  58],\n",
       "       ..., \n",
       "       [ 47,  49,  53, ..., 113, 114, 111],\n",
       "       [ 46,  49,  66, ..., 116, 113, 114],\n",
       "       [ 49,  54,  65, ..., 116, 113, 113]], dtype=uint8)"
      ]
     },
     "execution_count": 126,
     "metadata": {},
     "output_type": "execute_result"
    }
   ],
   "source": [
    "a"
   ]
  },
  {
   "cell_type": "code",
   "execution_count": 127,
   "metadata": {},
   "outputs": [
    {
     "data": {
      "text/plain": [
       "array([[ 16.5,  23. ,  34.5, ...,  32. ,  30.5,  30.5],\n",
       "       [ 13.5,  16.5,  20.5, ...,  30.5,  31. ,  30.5],\n",
       "       [ 33. ,  18. ,  14.5, ...,  31. ,  32. ,  29. ],\n",
       "       ..., \n",
       "       [ 23.5,  24.5,  26.5, ...,  56.5,  57. ,  55.5],\n",
       "       [ 23. ,  24.5,  33. , ...,  58. ,  56.5,  57. ],\n",
       "       [ 24.5,  27. ,  32.5, ...,  58. ,  56.5,  56.5]])"
      ]
     },
     "execution_count": 127,
     "metadata": {},
     "output_type": "execute_result"
    }
   ],
   "source": [
    "a/2"
   ]
  },
  {
   "cell_type": "code",
   "execution_count": 139,
   "metadata": {},
   "outputs": [],
   "source": [
    "im = cv2.imread('Test/Set5/butterfly_GT.bmp', 0)"
   ]
  },
  {
   "cell_type": "code",
   "execution_count": 140,
   "metadata": {},
   "outputs": [
    {
     "data": {
      "text/plain": [
       "array([[ 33,  46,  69, ...,  64,  61,  61],\n",
       "       [ 27,  33,  41, ...,  61,  62,  61],\n",
       "       [ 66,  36,  29, ...,  62,  64,  58],\n",
       "       ..., \n",
       "       [ 47,  49,  53, ..., 113, 114, 111],\n",
       "       [ 46,  49,  66, ..., 116, 113, 114],\n",
       "       [ 49,  54,  65, ..., 116, 113, 113]], dtype=uint8)"
      ]
     },
     "execution_count": 140,
     "metadata": {},
     "output_type": "execute_result"
    }
   ],
   "source": [
    "im"
   ]
  },
  {
   "cell_type": "code",
   "execution_count": 174,
   "metadata": {},
   "outputs": [],
   "source": [
    "im1 = scipy.misc.imread('Test/Set5/butterfly_GT.bmp', flatten=True, mode='YCbCr')"
   ]
  },
  {
   "cell_type": "code",
   "execution_count": 176,
   "metadata": {},
   "outputs": [
    {
     "data": {
      "text/plain": [
       "array([[  31.37700081,   44.83499908,   67.41799927, ...,   62.75799942,\n",
       "          59.75799942,   59.75799942],\n",
       "       [  26.41600037,   31.91699982,   39.6780014 , ...,   59.39899826,\n",
       "          60.6269989 ,   59.39899826],\n",
       "       [  64.55799866,   34.40100098,   27.77499962, ...,   61.68700027,\n",
       "          62.68700027,   57.68700027],\n",
       "       ..., \n",
       "       [  45.29999924,   48.7179985 ,   52.86000061, ...,  111.57299805,\n",
       "         113.63300323,  110.5510025 ],\n",
       "       [  45.61000061,   48.75099945,   65.31700134, ...,  114.40499878,\n",
       "         112.63300323,  113.32299805],\n",
       "       [  48.35499954,   52.20800018,   64.80599976, ...,  114.40499878,\n",
       "         112.63300323,  112.32299805]], dtype=float32)"
      ]
     },
     "execution_count": 176,
     "metadata": {},
     "output_type": "execute_result"
    }
   ],
   "source": [
    "im1[:,:]"
   ]
  },
  {
   "cell_type": "code",
   "execution_count": 157,
   "metadata": {},
   "outputs": [],
   "source": [
    "import matplotlib.pyplot as plt\n",
    "%matplotlib inline\n",
    "im1 = im1[:, :, 0]\n",
    "im1 = im1[:, :, np.newaxis]"
   ]
  },
  {
   "cell_type": "code",
   "execution_count": 159,
   "metadata": {},
   "outputs": [
    {
     "data": {
      "text/plain": [
       "<matplotlib.image.AxesImage at 0x7f09cc60e3d0>"
      ]
     },
     "execution_count": 159,
     "metadata": {},
     "output_type": "execute_result"
    },
    {
     "data": {
      "image/png": "[encoded data removed]",
      "text/plain": [
       "<matplotlib.figure.Figure at 0x7f09cc5c1a10>"
      ]
     },
     "metadata": {},
     "output_type": "display_data"
    }
   ],
   "source": [
    "plt.imshow(im1[:, :, 0], cmap='gray')"
   ]
  },
  {
   "cell_type": "code",
   "execution_count": 161,
   "metadata": {},
   "outputs": [],
   "source": [
    "im = cv2.imread('Test/Set5/butterfly_GT.bmp')"
   ]
  },
  {
   "cell_type": "code",
   "execution_count": 166,
   "metadata": {},
   "outputs": [
    {
     "data": {
      "text/plain": [
       "array([[22, 26, 42, ..., 52, 49, 49],\n",
       "       [12, 13, 19, ..., 51, 53, 51],\n",
       "       [46, 14, 12, ..., 53, 53, 48],\n",
       "       ..., \n",
       "       [24, 26, 25, ..., 74, 75, 73],\n",
       "       [23, 25, 39, ..., 74, 74, 75],\n",
       "       [27, 29, 42, ..., 74, 74, 74]], dtype=uint8)"
      ]
     },
     "execution_count": 166,
     "metadata": {},
     "output_type": "execute_result"
    }
   ],
   "source": [
    "im[:, : , 0]"
   ]
  },
  {
   "cell_type": "code",
   "execution_count": 177,
   "metadata": {},
   "outputs": [],
   "source": [
    "a = [1,2\n",
    "    ]"
   ]
  },
  {
   "cell_type": "code",
   "execution_count": 179,
   "metadata": {},
   "outputs": [
    {
     "data": {
      "text/plain": [
       "[]"
      ]
     },
     "execution_count": 179,
     "metadata": {},
     "output_type": "execute_result"
    }
   ],
   "source": [
    "a[0:\n",
    "  -0]"
   ]
  },
  {
   "cell_type": "code",
   "execution_count": 181,
   "metadata": {},
   "outputs": [
    {
     "name": "stdout",
     "output_type": "stream",
     "text": [
      "[[ 0.58405936  0.58899277  0.57442737  0.54929185  0.52882546]\n",
      " [ 0.5611828   0.5816133   0.57418978  0.55189222  0.53236741]\n",
      " [ 0.48174882  0.51876104  0.5381375   0.54794544  0.55005407]\n",
      " [ 0.37225938  0.42531461  0.48022297  0.53582543  0.56982428]\n",
      " [ 0.28468844  0.34177837  0.415975    0.49968475  0.55646169]]\n"
     ]
    }
   ],
   "source": [
    "import h5py \n",
    "f = h5py.File('train.h5')\n",
    "data = f.get('data')\n",
    "sample = data[0, 0, :5, :5]\n",
    "print(sample)\n"
   ]
  },
  {
   "cell_type": "code",
   "execution_count": 182,
   "metadata": {},
   "outputs": [
    {
     "data": {
      "text/plain": [
       "0.50982094"
      ]
     },
     "execution_count": 182,
     "metadata": {},
     "output_type": "execute_result"
    }
   ],
   "source": [
    "np.mean(sample)"
   ]
  },
  {
   "cell_type": "code",
   "execution_count": 183,
   "metadata": {},
   "outputs": [
    {
     "data": {
      "text/plain": [
       "(4352, 1, 33, 33)"
      ]
     },
     "execution_count": 183,
     "metadata": {},
     "output_type": "execute_result"
    }
   ],
   "source": [
    "data.shape"
   ]
  },
  {
   "cell_type": "code",
   "execution_count": 186,
   "metadata": {},
   "outputs": [
    {
     "data": {
      "text/plain": [
       "<matplotlib.image.AxesImage at 0x7f0a38574d50>"
      ]
     },
     "execution_count": 186,
     "metadata": {},
     "output_type": "execute_result"
    },
    {
     "data": {
      "image/png": "[encoded data removed]",
      "text/plain": [
       "<matplotlib.figure.Figure at 0x7f0a385ea750>"
      ]
     },
     "metadata": {},
     "output_type": "display_data"
    }
   ],
   "source": []
  },
  {
   "cell_type": "code",
   "execution_count": 358,
   "metadata": {},
   "outputs": [],
   "source": [
    "a = scipy.misc.imread('Test/Set5/butterfly_GT.bmp')"
   ]
  },
  {
   "cell_type": "code",
   "execution_count": 198,
   "metadata": {},
   "outputs": [
    {
     "data": {
      "text/plain": [
       "array([[ 22,  26,  42,  43,  53],\n",
       "       [ 12,  13,  19,  34,  49],\n",
       "       [ 46,  14,  12,  23,  25],\n",
       "       [193, 102,  13,  23,  15],\n",
       "       [ 74,  68,  24,  23,  19]], dtype=uint8)"
      ]
     },
     "execution_count": 198,
     "metadata": {},
     "output_type": "execute_result"
    }
   ],
   "source": [
    "a[:5, :5, 2]"
   ]
  },
  {
   "cell_type": "code",
   "execution_count": 200,
   "metadata": {},
   "outputs": [
    {
     "ename": "AttributeError",
     "evalue": "'numpy.ndarray' object has no attribute 'read'",
     "output_type": "error",
     "traceback": [
      "\u001b[0;31m---------------------------------------------------------------------------\u001b[0m",
      "\u001b[0;31mAttributeError\u001b[0m                            Traceback (most recent call last)",
      "\u001b[0;32m<ipython-input-200-2493b22238a7>\u001b[0m in \u001b[0;36m<module>\u001b[0;34m()\u001b[0m\n\u001b[0;32m----> 1\u001b[0;31m \u001b[0mb\u001b[0m \u001b[0;34m=\u001b[0m\u001b[0mscipy\u001b[0m\u001b[0;34m.\u001b[0m\u001b[0mmisc\u001b[0m\u001b[0;34m.\u001b[0m\u001b[0mimread\u001b[0m\u001b[0;34m(\u001b[0m\u001b[0ma\u001b[0m\u001b[0;34m,\u001b[0m \u001b[0mflatten\u001b[0m\u001b[0;34m=\u001b[0m\u001b[0mFalse\u001b[0m\u001b[0;34m,\u001b[0m \u001b[0mmode\u001b[0m\u001b[0;34m=\u001b[0m\u001b[0;34m'YCbCr'\u001b[0m\u001b[0;34m)\u001b[0m\u001b[0;34m\u001b[0m\u001b[0m\n\u001b[0m",
      "\u001b[0;32m/mnt/hdd1/thangvubk/workspace/.global_env/local/lib/python2.7/site-packages/scipy/misc/pilutil.pyc\u001b[0m in \u001b[0;36mimread\u001b[0;34m(name, flatten, mode)\u001b[0m\n\u001b[1;32m    154\u001b[0m     \"\"\"\n\u001b[1;32m    155\u001b[0m \u001b[0;34m\u001b[0m\u001b[0m\n\u001b[0;32m--> 156\u001b[0;31m     \u001b[0mim\u001b[0m \u001b[0;34m=\u001b[0m \u001b[0mImage\u001b[0m\u001b[0;34m.\u001b[0m\u001b[0mopen\u001b[0m\u001b[0;34m(\u001b[0m\u001b[0mname\u001b[0m\u001b[0;34m)\u001b[0m\u001b[0;34m\u001b[0m\u001b[0m\n\u001b[0m\u001b[1;32m    157\u001b[0m     \u001b[0;32mreturn\u001b[0m \u001b[0mfromimage\u001b[0m\u001b[0;34m(\u001b[0m\u001b[0mim\u001b[0m\u001b[0;34m,\u001b[0m \u001b[0mflatten\u001b[0m\u001b[0;34m=\u001b[0m\u001b[0mflatten\u001b[0m\u001b[0;34m,\u001b[0m \u001b[0mmode\u001b[0m\u001b[0;34m=\u001b[0m\u001b[0mmode\u001b[0m\u001b[0;34m)\u001b[0m\u001b[0;34m\u001b[0m\u001b[0m\n\u001b[1;32m    158\u001b[0m \u001b[0;34m\u001b[0m\u001b[0m\n",
      "\u001b[0;32m/mnt/hdd1/thangvubk/workspace/.global_env/local/lib/python2.7/site-packages/PIL/Image.pyc\u001b[0m in \u001b[0;36mopen\u001b[0;34m(fp, mode)\u001b[0m\n\u001b[1;32m   2534\u001b[0m         \u001b[0mfp\u001b[0m\u001b[0;34m.\u001b[0m\u001b[0mseek\u001b[0m\u001b[0;34m(\u001b[0m\u001b[0;36m0\u001b[0m\u001b[0;34m)\u001b[0m\u001b[0;34m\u001b[0m\u001b[0m\n\u001b[1;32m   2535\u001b[0m     \u001b[0;32mexcept\u001b[0m \u001b[0;34m(\u001b[0m\u001b[0mAttributeError\u001b[0m\u001b[0;34m,\u001b[0m \u001b[0mio\u001b[0m\u001b[0;34m.\u001b[0m\u001b[0mUnsupportedOperation\u001b[0m\u001b[0;34m)\u001b[0m\u001b[0;34m:\u001b[0m\u001b[0;34m\u001b[0m\u001b[0m\n\u001b[0;32m-> 2536\u001b[0;31m         \u001b[0mfp\u001b[0m \u001b[0;34m=\u001b[0m \u001b[0mio\u001b[0m\u001b[0;34m.\u001b[0m\u001b[0mBytesIO\u001b[0m\u001b[0;34m(\u001b[0m\u001b[0mfp\u001b[0m\u001b[0;34m.\u001b[0m\u001b[0mread\u001b[0m\u001b[0;34m(\u001b[0m\u001b[0;34m)\u001b[0m\u001b[0;34m)\u001b[0m\u001b[0;34m\u001b[0m\u001b[0m\n\u001b[0m\u001b[1;32m   2537\u001b[0m         \u001b[0mexclusive_fp\u001b[0m \u001b[0;34m=\u001b[0m \u001b[0mTrue\u001b[0m\u001b[0;34m\u001b[0m\u001b[0m\n\u001b[1;32m   2538\u001b[0m \u001b[0;34m\u001b[0m\u001b[0m\n",
      "\u001b[0;31mAttributeError\u001b[0m: 'numpy.ndarray' object has no attribute 'read'"
     ]
    }
   ],
   "source": [
    "b =scipy.misc.imread(a, flatten=False, mode='YCbCr')"
   ]
  },
  {
   "cell_type": "code",
   "execution_count": 359,
   "metadata": {},
   "outputs": [],
   "source": [
    "def rgb2gray(rgb):\n",
    "    return np.dot(rgb[...,:3], [65.738/256, 129.057/256, 25.064/256]) + 16"
   ]
  },
  {
   "cell_type": "code",
   "execution_count": 366,
   "metadata": {},
   "outputs": [],
   "source": [
    "label = rgb2gray(a)\n",
    "label = label[:255, :255]\n",
    "label = np.round(label)"
   ]
  },
  {
   "cell_type": "code",
   "execution_count": 367,
   "metadata": {},
   "outputs": [
    {
     "data": {
      "text/plain": [
       "array([[  44.,   55.,   75.,   84.,   96.],\n",
       "       [  39.,   44.,   51.,   66.,   84.],\n",
       "       [  72.,   47.,   41.,   47.,   56.],\n",
       "       [ 198.,  120.,   39.,   41.,   40.],\n",
       "       [  96.,   90.,   47.,   38.,   39.]])"
      ]
     },
     "execution_count": 367,
     "metadata": {},
     "output_type": "execute_result"
    }
   ],
   "source": [
    "label[:5, :5]"
   ]
  },
  {
   "cell_type": "code",
   "execution_count": 319,
   "metadata": {},
   "outputs": [],
   "source": [
    "c = scipy.misc.imread('Test/Set5/butterfly_GT.bmp', flatten=False, mode='YCbCr')"
   ]
  },
  {
   "cell_type": "code",
   "execution_count": 320,
   "metadata": {},
   "outputs": [],
   "source": [
    "label = c[:, :, 0]\n",
    "label = label/255\n",
    "label = label[:255, :255]"
   ]
  },
  {
   "cell_type": "code",
   "execution_count": 321,
   "metadata": {},
   "outputs": [],
   "source": [
    "low_res = scipy.ndimage.interpolation.zoom(label, 1/3)\n",
    "low_res = scipy.ndimage.interpolation.zoom(low_res, 3)"
   ]
  },
  {
   "cell_type": "code",
   "execution_count": 375,
   "metadata": {},
   "outputs": [],
   "source": []
  },
  {
   "cell_type": "code",
   "execution_count": 376,
   "metadata": {},
   "outputs": [
    {
     "name": "stdout",
     "output_type": "stream",
     "text": [
      "20.7816097971\n"
     ]
    }
   ],
   "source": [
    "print(psnr)"
   ]
  },
  {
   "cell_type": "code",
   "execution_count": 381,
   "metadata": {},
   "outputs": [],
   "source": [
    "im = scipy.misc.imread('Interpolate/Test/butterfly_GT.bmp')"
   ]
  },
  {
   "cell_type": "code",
   "execution_count": 382,
   "metadata": {},
   "outputs": [],
   "source": [
    "low_res = im[:255, :255]"
   ]
  },
  {
   "cell_type": "code",
   "execution_count": 384,
   "metadata": {},
   "outputs": [
    {
     "data": {
      "text/plain": [
       "24.056822024831117"
      ]
     },
     "execution_count": 384,
     "metadata": {},
     "output_type": "execute_result"
    }
   ],
   "source": [
    "imdiff = low_res - label\n",
    "rmse = np.sqrt(np.mean(imdiff**2))\n",
    "psnr = 20*np.log10(255/rmse)\n",
    "psnr"
   ]
  },
  {
   "cell_type": "code",
   "execution_count": 348,
   "metadata": {},
   "outputs": [],
   "source": [
    "imdiff = imdiff.reshape(1, -1)"
   ]
  },
  {
   "cell_type": "code",
   "execution_count": 383,
   "metadata": {},
   "outputs": [
    {
     "data": {
      "text/plain": [
       "array([[ 55,  58,  63, ...,  72,  72,  72],\n",
       "       [ 57,  59,  63, ...,  70,  70,  70],\n",
       "       [ 65,  65,  64, ...,  65,  65,  65],\n",
       "       ..., \n",
       "       [ 58,  61,  67, ..., 112, 112, 112],\n",
       "       [ 57,  60,  70, ..., 113, 113, 113],\n",
       "       [ 56,  60,  71, ..., 113, 113, 113]], dtype=uint8)"
      ]
     },
     "execution_count": 383,
     "metadata": {},
     "output_type": "execute_result"
    }
   ],
   "source": [
    "low_res"
   ]
  },
  {
   "cell_type": "code",
   "execution_count": 380,
   "metadata": {},
   "outputs": [
    {
     "data": {
      "text/plain": [
       "22500.0"
      ]
     },
     "execution_count": 380,
     "metadata": {},
     "output_type": "execute_result"
    }
   ],
   "source": [
    "np.max(imdiff**2)"
   ]
  },
  {
   "cell_type": "code",
   "execution_count": null,
   "metadata": {},
   "outputs": [],
   "source": []
  }
 ],
 "metadata": {
  "kernelspec": {
   "display_name": "Python 2",
   "language": "python",
   "name": "python2"
  },
  "language_info": {
   "codemirror_mode": {
    "name": "ipython",
    "version": 2
   },
   "file_extension": ".py",
   "mimetype": "text/x-python",
   "name": "python",
   "nbconvert_exporter": "python",
   "pygments_lexer": "ipython2",
   "version": "2.7.6"
  }
 },
 "nbformat": 4,
 "nbformat_minor": 2
}
