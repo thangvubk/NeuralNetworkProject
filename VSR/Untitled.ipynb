{
 "cells": [
  {
   "cell_type": "code",
   "execution_count": 425,
   "metadata": {},
   "outputs": [
    {
     "name": "stdout",
     "output_type": "stream",
     "text": [
      "The autoreload extension is already loaded. To reload it, use:\n",
      "  %reload_ext autoreload\n"
     ]
    }
   ],
   "source": [
    "from __future__ import division\n",
    "import numpy as np\n",
    "import scipy.misc\n",
    "import os\n",
    "from torch.utils.data import DataLoader\n",
    "import torch.nn as nn\n",
    "from torch.autograd import Variable\n",
    "from SR_datasets import SRCNN_dataset, SR_dataset\n",
    "\n",
    "%load_ext autoreload\n",
    "%autoreload 2"
   ]
  },
  {
   "cell_type": "code",
   "execution_count": 13,
   "metadata": {},
   "outputs": [
    {
     "data": {
      "text/plain": [
       "'/mnt/hdd1/thangvubk/workspace/NeuralNetwork/NeuralNetworkProject/VSR'"
      ]
     },
     "execution_count": 13,
     "metadata": {},
     "output_type": "execute_result"
    }
   ],
   "source": [
    "os.getcwd()\n"
   ]
  },
  {
   "cell_type": "code",
   "execution_count": 1,
   "metadata": {},
   "outputs": [],
   "source": [
    "from SR_datasets import *\n",
    "\n",
    "dataset = SRCNN_dataset(os.getcwd()+'/akiyo', phase='train')"
   ]
  },
  {
   "cell_type": "code",
   "execution_count": 3,
   "metadata": {},
   "outputs": [
    {
     "data": {
      "text/plain": [
       "300"
      ]
     },
     "execution_count": 3,
     "metadata": {},
     "output_type": "execute_result"
    }
   ],
   "source": [
    "len(dataset.paths)\n"
   ]
  },
  {
   "cell_type": "code",
   "execution_count": 7,
   "metadata": {},
   "outputs": [],
   "source": [
    "from config import *\n"
   ]
  },
  {
   "cell_type": "code",
   "execution_count": 8,
   "metadata": {},
   "outputs": [
    {
     "data": {
      "text/plain": [
       "12"
      ]
     },
     "execution_count": 8,
     "metadata": {},
     "output_type": "execute_result"
    }
   ],
   "source": [
    "config.SRCNN_IMG_DIFF\n"
   ]
  },
  {
   "cell_type": "code",
   "execution_count": 9,
   "metadata": {},
   "outputs": [
    {
     "data": {
      "text/plain": [
       "12"
      ]
     },
     "execution_count": 9,
     "metadata": {},
     "output_type": "execute_result"
    }
   ],
   "source": [
    "SRCNN_IMG_DIFF\n"
   ]
  },
  {
   "cell_type": "code",
   "execution_count": 13,
   "metadata": {},
   "outputs": [],
   "source": [
    "a = np.fromfunction(lambda i, j: i + j, (8, 8), dtype=int)"
   ]
  },
  {
   "cell_type": "code",
   "execution_count": 38,
   "metadata": {},
   "outputs": [
    {
     "name": "stderr",
     "output_type": "stream",
     "text": [
      "/mnt/hdd1/thangvubk/workspace/.global_env/local/lib/python2.7/site-packages/scipy/ndimage/interpolation.py:600: UserWarning: From scipy 0.13.0, the output shape of zoom() is calculated with round() instead of int() - for these inputs the size of the returned array has changed.\n",
      "  \"the returned array has changed.\", UserWarning)\n"
     ]
    }
   ],
   "source": [
    "import scipy.ndimage\n",
    "b = scipy.ndimage.interpolation.zoom(a, 1/2, prefilter=False)"
   ]
  },
  {
   "cell_type": "code",
   "execution_count": 41,
   "metadata": {},
   "outputs": [
    {
     "data": {
      "text/plain": [
       "array([[[ 1],\n",
       "        [ 3],\n",
       "        [ 5],\n",
       "        [ 7]],\n",
       "\n",
       "       [[ 3],\n",
       "        [ 5],\n",
       "        [ 7],\n",
       "        [ 9]],\n",
       "\n",
       "       [[ 5],\n",
       "        [ 7],\n",
       "        [ 9],\n",
       "        [11]],\n",
       "\n",
       "       [[ 7],\n",
       "        [ 9],\n",
       "        [11],\n",
       "        [13]]])"
      ]
     },
     "execution_count": 41,
     "metadata": {},
     "output_type": "execute_result"
    }
   ],
   "source": [
    "b"
   ]
  },
  {
   "cell_type": "code",
   "execution_count": 20,
   "metadata": {},
   "outputs": [],
   "source": [
    "c = scipy.ndimage.interpolation.zoom(b, 2, prefilter=False)"
   ]
  },
  {
   "cell_type": "code",
   "execution_count": 21,
   "metadata": {},
   "outputs": [
    {
     "data": {
      "text/plain": [
       "array([[ 2,  3,  3,  4,  5,  6,  7,  7],\n",
       "       [ 3,  3,  4,  5,  5,  6,  7,  7],\n",
       "       [ 3,  4,  4,  5,  6,  7,  8,  8],\n",
       "       [ 4,  5,  5,  6,  7,  8,  9,  9],\n",
       "       [ 5,  5,  6,  7,  8,  9,  9, 10],\n",
       "       [ 6,  6,  7,  8,  9, 10, 10, 11],\n",
       "       [ 7,  7,  8,  9,  9, 10, 11, 11],\n",
       "       [ 7,  7,  8,  9, 10, 11, 11, 12]])"
      ]
     },
     "execution_count": 21,
     "metadata": {},
     "output_type": "execute_result"
    }
   ],
   "source": [
    "c"
   ]
  },
  {
   "cell_type": "code",
   "execution_count": 24,
   "metadata": {},
   "outputs": [
    {
     "data": {
      "text/plain": [
       "int"
      ]
     },
     "execution_count": 24,
     "metadata": {},
     "output_type": "execute_result"
    }
   ],
   "source": [
    "type(4//2)"
   ]
  },
  {
   "cell_type": "code",
   "execution_count": 30,
   "metadata": {},
   "outputs": [],
   "source": [
    "import torchvision.transforms as T"
   ]
  },
  {
   "cell_type": "code",
   "execution_count": 31,
   "metadata": {},
   "outputs": [],
   "source": [
    "transforms = T.ToTensor()"
   ]
  },
  {
   "cell_type": "code",
   "execution_count": 32,
   "metadata": {},
   "outputs": [
    {
     "data": {
      "text/plain": [
       "<torchvision.transforms.ToTensor at 0x7f12baf23610>"
      ]
     },
     "execution_count": 32,
     "metadata": {},
     "output_type": "execute_result"
    }
   ],
   "source": [
    "transforms"
   ]
  },
  {
   "cell_type": "code",
   "execution_count": 33,
   "metadata": {},
   "outputs": [],
   "source": [
    "transforms = T.CenterCrop(20)"
   ]
  },
  {
   "cell_type": "code",
   "execution_count": 35,
   "metadata": {},
   "outputs": [],
   "source": [
    "a = a[:, :, np.newaxis]"
   ]
  },
  {
   "cell_type": "code",
   "execution_count": 37,
   "metadata": {},
   "outputs": [
    {
     "data": {
      "text/plain": [
       "(8, 8, 1)"
      ]
     },
     "execution_count": 37,
     "metadata": {},
     "output_type": "execute_result"
    }
   ],
   "source": [
    "a.shape"
   ]
  },
  {
   "cell_type": "code",
   "execution_count": 426,
   "metadata": {},
   "outputs": [],
   "source": [
    "dataset = SR_dataset(os.getcwd()+'/akiyo')\n",
    "\n",
    "dataloader = DataLoader(dataset, batch_size=10, shuffle=False)\n",
    "\n",
    "dataiter = iter(dataloader)\n",
    "\n",
    "low, high = dataiter.next()\n",
    "low = Variable(low)"
   ]
  },
  {
   "cell_type": "code",
   "execution_count": 427,
   "metadata": {},
   "outputs": [
    {
     "data": {
      "text/plain": [
       "torch.Size([10, 1, 96, 117])"
      ]
     },
     "execution_count": 427,
     "metadata": {},
     "output_type": "execute_result"
    }
   ],
   "source": [
    "low.size()\n"
   ]
  },
  {
   "cell_type": "code",
   "execution_count": 9,
   "metadata": {},
   "outputs": [
    {
     "data": {
      "text/plain": [
       "torch.Size([10, 1, 288, 351])"
      ]
     },
     "execution_count": 9,
     "metadata": {},
     "output_type": "execute_result"
    }
   ],
   "source": [
    "low.size()"
   ]
  },
  {
   "cell_type": "code",
   "execution_count": 377,
   "metadata": {},
   "outputs": [],
   "source": [
    "a = scipy.misc.imread('Result/label_1.png', flatten=True, mode='YCbCr')\n",
    "\n",
    "b = scipy.misc.imread('Result/output_1.png', flatten=True, mode='YCbCr')\n",
    "\n",
    "imdiff = (a - b)\n",
    "\n",
    "rmse = np.linalg.norm(imdiff)\n",
    "rmse1 = np.sqrt(np.mean(imdiff**2))\n",
    "\n",
    "psnr = 20*np.log10(255/rmse1)"
   ]
  },
  {
   "cell_type": "code",
   "execution_count": 378,
   "metadata": {},
   "outputs": [
    {
     "data": {
      "text/plain": [
       "25.384933635565275"
      ]
     },
     "execution_count": 378,
     "metadata": {},
     "output_type": "execute_result"
    }
   ],
   "source": [
    "psnr"
   ]
  },
  {
   "cell_type": "code",
   "execution_count": 361,
   "metadata": {},
   "outputs": [
    {
     "data": {
      "text/plain": [
       "29.746941347352298"
      ]
     },
     "execution_count": 361,
     "metadata": {},
     "output_type": "execute_result"
    }
   ],
   "source": [
    "20*np.log10(1/np.sqrt(0.00106))"
   ]
  },
  {
   "cell_type": "code",
   "execution_count": 358,
   "metadata": {},
   "outputs": [
    {
     "data": {
      "text/plain": [
       "0.55425625842204074"
      ]
     },
     "execution_count": 358,
     "metadata": {},
     "output_type": "execute_result"
    }
   ],
   "source": [
    "np.sqrt(0.0012*256)"
   ]
  },
  {
   "cell_type": "code",
   "execution_count": 218,
   "metadata": {},
   "outputs": [
    {
     "data": {
      "text/plain": [
       "2.225929699439633"
      ]
     },
     "execution_count": 218,
     "metadata": {},
     "output_type": "execute_result"
    }
   ],
   "source": [
    "87.39/39.26"
   ]
  },
  {
   "cell_type": "code",
   "execution_count": 311,
   "metadata": {},
   "outputs": [],
   "source": [
    "a = scipy.misc.imread('akiyo2/image-0001.bmp', flatten=True, mode='YCbCr')"
   ]
  },
  {
   "cell_type": "code",
   "execution_count": 313,
   "metadata": {},
   "outputs": [],
   "source": [
    "scipy.misc.imsave('akiyo2/temp.bmp', a)"
   ]
  },
  {
   "cell_type": "code",
   "execution_count": 314,
   "metadata": {},
   "outputs": [],
   "source": [
    "b = scipy.misc.imread('akiyo2/temp.bmp', flatten=True, mode='YCbCr')"
   ]
  },
  {
   "cell_type": "code",
   "execution_count": 374,
   "metadata": {},
   "outputs": [
    {
     "data": {
      "text/plain": [
       "array([[ 252.,  252.,  251., ...,  253.,  253.,  253.],\n",
       "       [ 253.,  252.,  250., ...,  251.,  251.,  253.],\n",
       "       [ 252.,  251.,  250., ...,  251.,  251.,  253.],\n",
       "       ..., \n",
       "       [ 112.,  111.,  106., ...,   53.,   42.,   50.],\n",
       "       [ 116.,  112.,  104., ...,   61.,   47.,   49.],\n",
       "       [ 111.,  104.,  101., ...,   58.,   48.,   44.]], dtype=float32)"
      ]
     },
     "execution_count": 374,
     "metadata": {},
     "output_type": "execute_result"
    }
   ],
   "source": [
    "a\n"
   ]
  },
  {
   "cell_type": "code",
   "execution_count": 369,
   "metadata": {},
   "outputs": [
    {
     "data": {
      "text/plain": [
       "array([[ 41.,  42.,  42.,  42.,  42.],\n",
       "       [ 40.,  40.,  40.,  41.,  41.],\n",
       "       [ 39.,  39.,  40.,  40.,  40.],\n",
       "       [ 40.,  40.,  40.,  41.,  41.],\n",
       "       [ 41.,  41.,  42.,  42.,  42.]], dtype=float32)"
      ]
     },
     "execution_count": 369,
     "metadata": {},
     "output_type": "execute_result"
    }
   ],
   "source": [
    "b[:5, :5]"
   ]
  },
  {
   "cell_type": "code",
   "execution_count": 318,
   "metadata": {},
   "outputs": [],
   "source": [
    "from PIL import Image"
   ]
  },
  {
   "cell_type": "code",
   "execution_count": 320,
   "metadata": {},
   "outputs": [],
   "source": [
    "a = Image.open('akiyo2/image-0001.bmp')\n"
   ]
  },
  {
   "cell_type": "code",
   "execution_count": 324,
   "metadata": {},
   "outputs": [],
   "source": [
    "imga = a.convert('YCbCr')"
   ]
  },
  {
   "cell_type": "code",
   "execution_count": 336,
   "metadata": {},
   "outputs": [],
   "source": [
    "with open('akiyo2/image-0001.bmp', 'rb') as f:\n",
    "            with Image.open(f) as img:\n",
    "                image = img.convert('YCbCr')"
   ]
  },
  {
   "cell_type": "code",
   "execution_count": 337,
   "metadata": {},
   "outputs": [
    {
     "data": {
      "text/plain": [
       "PIL.Image.Image"
      ]
     },
     "execution_count": 337,
     "metadata": {},
     "output_type": "execute_result"
    }
   ],
   "source": [
    "type(image)"
   ]
  },
  {
   "cell_type": "code",
   "execution_count": 341,
   "metadata": {},
   "outputs": [],
   "source": [
    "img = np.array(image)"
   ]
  },
  {
   "cell_type": "code",
   "execution_count": 344,
   "metadata": {},
   "outputs": [
    {
     "data": {
      "text/plain": [
       "array([[36, 37, 39, ..., 26, 24,  3],\n",
       "       [35, 37, 36, ..., 29, 25,  3],\n",
       "       [36, 37, 36, ..., 26, 24,  3],\n",
       "       ..., \n",
       "       [51, 51, 51, ..., 47, 45,  3],\n",
       "       [51, 51, 51, ..., 47, 46,  3],\n",
       "       [50, 50, 52, ..., 49, 44,  3]], dtype=uint8)"
      ]
     },
     "execution_count": 344,
     "metadata": {},
     "output_type": "execute_result"
    }
   ],
   "source": [
    "img[:, :, 0]"
   ]
  },
  {
   "cell_type": "code",
   "execution_count": 345,
   "metadata": {},
   "outputs": [],
   "source": [
    "pilImg = Image.fromarray(img)"
   ]
  },
  {
   "cell_type": "code",
   "execution_count": 346,
   "metadata": {},
   "outputs": [],
   "source": [
    "pilImg.save('akiyo2/temp.bmp')"
   ]
  },
  {
   "cell_type": "code",
   "execution_count": 347,
   "metadata": {},
   "outputs": [],
   "source": [
    "with open('akiyo2/temp.bmp') as f:\n",
    "            with Image.open(f) as img:\n",
    "                image = img.convert('YCbCr')"
   ]
  },
  {
   "cell_type": "code",
   "execution_count": 348,
   "metadata": {},
   "outputs": [],
   "source": [
    "img1= np.array(image)"
   ]
  },
  {
   "cell_type": "code",
   "execution_count": 349,
   "metadata": {},
   "outputs": [
    {
     "data": {
      "text/plain": [
       "array([[ 98,  98,  99, ...,  93,  94,  89],\n",
       "       [ 98,  98,  98, ...,  94,  94,  89],\n",
       "       [ 98,  99,  98, ...,  95,  95,  89],\n",
       "       ..., \n",
       "       [105, 105, 104, ..., 102, 101,  89],\n",
       "       [105, 105, 104, ..., 102, 102,  89],\n",
       "       [104, 104, 104, ..., 102, 101,  89]], dtype=uint8)"
      ]
     },
     "execution_count": 349,
     "metadata": {},
     "output_type": "execute_result"
    }
   ],
   "source": [
    "img1[:, :, 0]"
   ]
  },
  {
   "cell_type": "code",
   "execution_count": 468,
   "metadata": {},
   "outputs": [],
   "source": [
    "\n",
    "conv1 = nn.Conv2d(1, 32, 5)\n",
    "conv2 = nn.Conv2d(32, 5, 1)\n",
    "conv3 = nn.Conv2d(5, 5, 3)\n",
    "conv4 = nn.Conv2d(5, 32, 1)\n",
    "conv5 = nn.ConvTranspose2d(32, 1, 9, stride=3)\n",
    "def forward(x):\n",
    "    x = conv3(conv2(conv1(x)))\n",
    "    x = conv4(x)\n",
    "    x = conv5(x)\n",
    "    return x\n",
    "\n",
    "y = forward(low)"
   ]
  },
  {
   "cell_type": "code",
   "execution_count": 469,
   "metadata": {},
   "outputs": [
    {
     "data": {
      "text/plain": [
       "torch.Size([10, 1, 276, 339])"
      ]
     },
     "execution_count": 469,
     "metadata": {},
     "output_type": "execute_result"
    }
   ],
   "source": [
    "y.size()"
   ]
  },
  {
   "cell_type": "code",
   "execution_count": 417,
   "metadata": {},
   "outputs": [
    {
     "data": {
      "text/plain": [
       "torch.Size([10, 1, 288, 351])"
      ]
     },
     "execution_count": 417,
     "metadata": {},
     "output_type": "execute_result"
    }
   ],
   "source": [
    "low.size()\n",
    "\n"
   ]
  },
  {
   "cell_type": "code",
   "execution_count": 397,
   "metadata": {},
   "outputs": [
    {
     "data": {
      "text/plain": [
       "torch.Size([10, 2, 284, 347])"
      ]
     },
     "execution_count": 397,
     "metadata": {},
     "output_type": "execute_result"
    }
   ],
   "source": [
    "y.size()"
   ]
  },
  {
   "cell_type": "code",
   "execution_count": 400,
   "metadata": {},
   "outputs": [],
   "source": [
    "deconv = nn.ConvTranspose2d(2, 1, 5)"
   ]
  },
  {
   "cell_type": "code",
   "execution_count": 401,
   "metadata": {},
   "outputs": [],
   "source": [
    "low_temp = deconv(y)"
   ]
  },
  {
   "cell_type": "code",
   "execution_count": 402,
   "metadata": {},
   "outputs": [
    {
     "data": {
      "text/plain": [
       "torch.Size([10, 1, 288, 351])"
      ]
     },
     "execution_count": 402,
     "metadata": {},
     "output_type": "execute_result"
    }
   ],
   "source": [
    "low_temp.size()"
   ]
  },
  {
   "cell_type": "code",
   "execution_count": 404,
   "metadata": {},
   "outputs": [
    {
     "data": {
      "text/plain": [
       "Variable containing:\n",
       "( 0 , 0 ,.,.) = \n",
       " -1.0126e-01 -1.2886e-01 -1.0082e-01  ...  -8.5247e-02 -1.1212e-01 -1.1804e-01\n",
       " -1.2935e-01 -1.5089e-01 -1.0386e-01  ...  -4.6491e-02 -9.0805e-02 -1.1252e-01\n",
       " -9.8513e-02 -1.2316e-01 -7.7634e-02  ...  -4.2536e-02 -8.5441e-02 -1.0851e-01\n",
       "                 ...                   ⋱                   ...                \n",
       " -1.2824e-01 -1.1765e-01 -9.0062e-02  ...  -1.2554e-01 -1.5207e-01 -1.2638e-01\n",
       " -1.6437e-01 -1.5320e-01 -1.2554e-01  ...  -1.2826e-01 -1.5536e-01 -1.2911e-01\n",
       " -1.5517e-01 -1.5938e-01 -1.7557e-01  ...  -1.5153e-01 -1.3667e-01 -1.2795e-01\n",
       "      ⋮  \n",
       "\n",
       "( 1 , 0 ,.,.) = \n",
       " -1.0126e-01 -1.2886e-01 -1.0082e-01  ...  -8.5243e-02 -1.1212e-01 -1.1804e-01\n",
       " -1.2935e-01 -1.5089e-01 -1.0386e-01  ...  -4.6481e-02 -9.0797e-02 -1.1251e-01\n",
       " -9.8513e-02 -1.2316e-01 -7.7634e-02  ...  -4.2518e-02 -8.5428e-02 -1.0851e-01\n",
       "                 ...                   ⋱                   ...                \n",
       " -1.2824e-01 -1.1765e-01 -9.0062e-02  ...  -1.2554e-01 -1.5207e-01 -1.2638e-01\n",
       " -1.6437e-01 -1.5320e-01 -1.2554e-01  ...  -1.2826e-01 -1.5536e-01 -1.2911e-01\n",
       " -1.5517e-01 -1.5938e-01 -1.7557e-01  ...  -1.5153e-01 -1.3667e-01 -1.2795e-01\n",
       "      ⋮  \n",
       "\n",
       "( 2 , 0 ,.,.) = \n",
       " -1.0125e-01 -1.2887e-01 -1.0083e-01  ...  -8.5243e-02 -1.1212e-01 -1.1804e-01\n",
       " -1.2934e-01 -1.5089e-01 -1.0384e-01  ...  -4.6481e-02 -9.0797e-02 -1.1251e-01\n",
       " -9.8502e-02 -1.2314e-01 -7.7603e-02  ...  -4.2518e-02 -8.5428e-02 -1.0851e-01\n",
       "                 ...                   ⋱                   ...                \n",
       " -1.2824e-01 -1.1765e-01 -9.0062e-02  ...  -1.2554e-01 -1.5207e-01 -1.2638e-01\n",
       " -1.6437e-01 -1.5320e-01 -1.2554e-01  ...  -1.2826e-01 -1.5536e-01 -1.2911e-01\n",
       " -1.5517e-01 -1.5938e-01 -1.7557e-01  ...  -1.5153e-01 -1.3667e-01 -1.2795e-01\n",
       "...     \n",
       "      ⋮  \n",
       "\n",
       "( 7 , 0 ,.,.) = \n",
       " -1.0126e-01 -1.2886e-01 -1.0083e-01  ...  -8.5247e-02 -1.1212e-01 -1.1804e-01\n",
       " -1.2935e-01 -1.5089e-01 -1.0385e-01  ...  -4.6491e-02 -9.0805e-02 -1.1252e-01\n",
       " -9.8510e-02 -1.2314e-01 -7.7614e-02  ...  -4.2538e-02 -8.5442e-02 -1.0851e-01\n",
       "                 ...                   ⋱                   ...                \n",
       " -1.2824e-01 -1.1765e-01 -9.0062e-02  ...  -1.2554e-01 -1.5207e-01 -1.2639e-01\n",
       " -1.6437e-01 -1.5320e-01 -1.2554e-01  ...  -1.2826e-01 -1.5536e-01 -1.2912e-01\n",
       " -1.5517e-01 -1.5938e-01 -1.7557e-01  ...  -1.5153e-01 -1.3667e-01 -1.2795e-01\n",
       "      ⋮  \n",
       "\n",
       "( 8 , 0 ,.,.) = \n",
       " -1.0126e-01 -1.2886e-01 -1.0082e-01  ...  -8.5247e-02 -1.1212e-01 -1.1804e-01\n",
       " -1.2935e-01 -1.5089e-01 -1.0386e-01  ...  -4.6491e-02 -9.0805e-02 -1.1252e-01\n",
       " -9.8513e-02 -1.2316e-01 -7.7634e-02  ...  -4.2537e-02 -8.5442e-02 -1.0851e-01\n",
       "                 ...                   ⋱                   ...                \n",
       " -1.2824e-01 -1.1765e-01 -9.0062e-02  ...  -1.2554e-01 -1.5207e-01 -1.2638e-01\n",
       " -1.6437e-01 -1.5320e-01 -1.2554e-01  ...  -1.2826e-01 -1.5536e-01 -1.2911e-01\n",
       " -1.5517e-01 -1.5938e-01 -1.7557e-01  ...  -1.5153e-01 -1.3667e-01 -1.2795e-01\n",
       "      ⋮  \n",
       "\n",
       "( 9 , 0 ,.,.) = \n",
       " -1.0126e-01 -1.2886e-01 -1.0082e-01  ...  -8.5247e-02 -1.1212e-01 -1.1804e-01\n",
       " -1.2935e-01 -1.5089e-01 -1.0386e-01  ...  -4.6491e-02 -9.0805e-02 -1.1252e-01\n",
       " -9.8513e-02 -1.2316e-01 -7.7634e-02  ...  -4.2537e-02 -8.5442e-02 -1.0851e-01\n",
       "                 ...                   ⋱                   ...                \n",
       " -1.2824e-01 -1.1765e-01 -9.0062e-02  ...  -1.2554e-01 -1.5207e-01 -1.2638e-01\n",
       " -1.6437e-01 -1.5320e-01 -1.2554e-01  ...  -1.2826e-01 -1.5536e-01 -1.2911e-01\n",
       " -1.5517e-01 -1.5938e-01 -1.7557e-01  ...  -1.5153e-01 -1.3667e-01 -1.2795e-01\n",
       "[torch.FloatTensor of size 10x1x288x351]"
      ]
     },
     "execution_count": 404,
     "metadata": {},
     "output_type": "execute_result"
    }
   ],
   "source": [
    "low_temp"
   ]
  },
  {
   "cell_type": "code",
   "execution_count": 405,
   "metadata": {},
   "outputs": [
    {
     "data": {
      "text/plain": [
       "Variable containing:\n",
       "( 0 , 0 ,.,.) = \n",
       "  0.1370  0.1371  0.1374  ...   0.1015  0.1007  0.1003\n",
       "  0.1361  0.1362  0.1364  ...   0.1021  0.1012  0.1008\n",
       "  0.1338  0.1337  0.1335  ...   0.1032  0.1022  0.1018\n",
       "           ...             ⋱             ...          \n",
       "  0.1980  0.1985  0.1996  ...   0.1789  0.1783  0.1782\n",
       "  0.1978  0.1984  0.1997  ...   0.1791  0.1785  0.1784\n",
       "  0.1978  0.1984  0.1997  ...   0.1793  0.1787  0.1785\n",
       "      ⋮  \n",
       "\n",
       "( 1 , 0 ,.,.) = \n",
       "  0.1370  0.1371  0.1374  ...   0.1015  0.1007  0.1003\n",
       "  0.1361  0.1362  0.1364  ...   0.1021  0.1012  0.1008\n",
       "  0.1338  0.1337  0.1335  ...   0.1032  0.1022  0.1018\n",
       "           ...             ⋱             ...          \n",
       "  0.1980  0.1985  0.1996  ...   0.1789  0.1783  0.1782\n",
       "  0.1978  0.1984  0.1997  ...   0.1791  0.1785  0.1784\n",
       "  0.1978  0.1984  0.1997  ...   0.1793  0.1787  0.1785\n",
       "      ⋮  \n",
       "\n",
       "( 2 , 0 ,.,.) = \n",
       "  0.1370  0.1371  0.1375  ...   0.1015  0.1007  0.1003\n",
       "  0.1362  0.1362  0.1364  ...   0.1021  0.1012  0.1008\n",
       "  0.1338  0.1337  0.1335  ...   0.1032  0.1022  0.1018\n",
       "           ...             ⋱             ...          \n",
       "  0.1980  0.1985  0.1996  ...   0.1789  0.1783  0.1782\n",
       "  0.1978  0.1984  0.1997  ...   0.1791  0.1785  0.1784\n",
       "  0.1978  0.1984  0.1997  ...   0.1793  0.1787  0.1785\n",
       "...     \n",
       "      ⋮  \n",
       "\n",
       "( 7 , 0 ,.,.) = \n",
       "  0.1370  0.1371  0.1374  ...   0.1015  0.1007  0.1003\n",
       "  0.1361  0.1362  0.1363  ...   0.1021  0.1012  0.1008\n",
       "  0.1337  0.1336  0.1335  ...   0.1032  0.1022  0.1018\n",
       "           ...             ⋱             ...          \n",
       "  0.1980  0.1985  0.1996  ...   0.1788  0.1783  0.1782\n",
       "  0.1978  0.1984  0.1997  ...   0.1791  0.1785  0.1784\n",
       "  0.1978  0.1984  0.1997  ...   0.1793  0.1787  0.1785\n",
       "      ⋮  \n",
       "\n",
       "( 8 , 0 ,.,.) = \n",
       "  0.1370  0.1371  0.1374  ...   0.1015  0.1007  0.1003\n",
       "  0.1361  0.1362  0.1364  ...   0.1021  0.1012  0.1008\n",
       "  0.1338  0.1337  0.1335  ...   0.1032  0.1022  0.1018\n",
       "           ...             ⋱             ...          \n",
       "  0.1980  0.1985  0.1996  ...   0.1789  0.1783  0.1782\n",
       "  0.1978  0.1984  0.1997  ...   0.1791  0.1785  0.1784\n",
       "  0.1978  0.1984  0.1997  ...   0.1793  0.1787  0.1785\n",
       "      ⋮  \n",
       "\n",
       "( 9 , 0 ,.,.) = \n",
       "  0.1370  0.1371  0.1374  ...   0.1015  0.1007  0.1003\n",
       "  0.1361  0.1362  0.1364  ...   0.1021  0.1012  0.1008\n",
       "  0.1338  0.1337  0.1335  ...   0.1032  0.1022  0.1018\n",
       "           ...             ⋱             ...          \n",
       "  0.1980  0.1985  0.1996  ...   0.1789  0.1783  0.1782\n",
       "  0.1978  0.1984  0.1997  ...   0.1791  0.1785  0.1784\n",
       "  0.1978  0.1984  0.1997  ...   0.1793  0.1787  0.1785\n",
       "[torch.FloatTensor of size 10x1x288x351]"
      ]
     },
     "execution_count": 405,
     "metadata": {},
     "output_type": "execute_result"
    }
   ],
   "source": [
    "low"
   ]
  },
  {
   "cell_type": "code",
   "execution_count": 412,
   "metadata": {},
   "outputs": [],
   "source": [
    "class a(object):\n",
    "    def __init__(self, temp):\n",
    "        self.temp = temp\n",
    "class b(a):\n",
    "    pass\n",
    "\n",
    "var = b('temp')"
   ]
  },
  {
   "cell_type": "code",
   "execution_count": 411,
   "metadata": {},
   "outputs": [
    {
     "data": {
      "text/plain": [
       "'temp'"
      ]
     },
     "execution_count": 411,
     "metadata": {},
     "output_type": "execute_result"
    }
   ],
   "source": [
    "var.temp"
   ]
  },
  {
   "cell_type": "code",
   "execution_count": 470,
   "metadata": {},
   "outputs": [
    {
     "name": "stdout",
     "output_type": "stream",
     "text": [
      "\u001b[0m\u001b[01;34makiyo\u001b[0m/      main.py    SCRNN_trained_model.pt  SR_datasets.pyc   Untitled.ipynb\r\n",
      "\u001b[01;34makiyo2\u001b[0m/     model.py   solver.py               \u001b[01;34mTest\u001b[0m/\r\n",
      "config.py   model.pyc  solver.pyc              \u001b[01;34mTrain\u001b[0m/\r\n",
      "config.pyc  \u001b[01;34mResult\u001b[0m/    SR_datasets.py          trained_model.pt\r\n"
     ]
    }
   ],
   "source": [
    "ls"
   ]
  },
  {
   "cell_type": "code",
   "execution_count": 471,
   "metadata": {},
   "outputs": [
    {
     "data": {
      "text/plain": [
       "True"
      ]
     },
     "execution_count": 471,
     "metadata": {},
     "output_type": "execute_result"
    }
   ],
   "source": [
    "os.path.exists('trained_model.pt')"
   ]
  },
  {
   "cell_type": "code",
   "execution_count": null,
   "metadata": {},
   "outputs": [],
   "source": []
  }
 ],
 "metadata": {
  "kernelspec": {
   "display_name": "Python 2",
   "language": "python",
   "name": "python2"
  },
  "language_info": {
   "codemirror_mode": {
    "name": "ipython",
    "version": 2
   },
   "file_extension": ".py",
   "mimetype": "text/x-python",
   "name": "python",
   "nbconvert_exporter": "python",
   "pygments_lexer": "ipython2",
   "version": "2.7.6"
  }
 },
 "nbformat": 4,
 "nbformat_minor": 2
}
